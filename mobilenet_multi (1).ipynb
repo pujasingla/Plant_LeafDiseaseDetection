{
  "nbformat": 4,
  "nbformat_minor": 0,
  "metadata": {
    "colab": {
      "name": "mobilenet_multi.ipynb",
      "provenance": []
    },
    "kernelspec": {
      "name": "python3",
      "display_name": "Python 3"
    },
    "language_info": {
      "name": "python"
    },
    "accelerator": "GPU"
  },
  "cells": [
    {
      "cell_type": "code",
      "execution_count": null,
      "metadata": {
        "colab": {
          "base_uri": "https://localhost:8080/"
        },
        "id": "On17fhYQbTE0",
        "outputId": "00584229-230e-45aa-aea8-c99f09017504"
      },
      "outputs": [
        {
          "output_type": "stream",
          "name": "stdout",
          "text": [
            "Mounted at /content/drive/\n"
          ]
        }
      ],
      "source": [
        "from google.colab import drive\n",
        "drive.mount('/content/drive/')"
      ]
    },
    {
      "cell_type": "code",
      "source": [
        "from tensorflow.compat.v1 import ConfigProto\n",
        "from tensorflow.compat.v1 import InteractiveSession\n",
        "\n",
        "config = ConfigProto()\n",
        "config.gpu_options.allow_growth = True\n",
        "session = InteractiveSession(config=config)"
      ],
      "metadata": {
        "id": "wD6H9x2MbU3_"
      },
      "execution_count": null,
      "outputs": []
    },
    {
      "cell_type": "code",
      "source": [
        "import tensorflow as tf\n",
        "print(\"Num GPUs Available: \", len(tf.config.list_physical_devices('GPU')))"
      ],
      "metadata": {
        "colab": {
          "base_uri": "https://localhost:8080/"
        },
        "id": "BpFpIIJSbU7f",
        "outputId": "0fd4b0b8-ec40-422d-b1be-1388ea639c00"
      },
      "execution_count": null,
      "outputs": [
        {
          "output_type": "stream",
          "name": "stdout",
          "text": [
            "Num GPUs Available:  1\n"
          ]
        }
      ]
    },
    {
      "cell_type": "code",
      "source": [
        "!nvidia-smi"
      ],
      "metadata": {
        "colab": {
          "base_uri": "https://localhost:8080/"
        },
        "id": "g6zcEfp6bVAc",
        "outputId": "2a626678-6a4b-493c-d6f7-71df5d895fd9"
      },
      "execution_count": null,
      "outputs": [
        {
          "output_type": "stream",
          "name": "stdout",
          "text": [
            "Sun Feb  6 14:32:37 2022       \n",
            "+-----------------------------------------------------------------------------+\n",
            "| NVIDIA-SMI 460.32.03    Driver Version: 460.32.03    CUDA Version: 11.2     |\n",
            "|-------------------------------+----------------------+----------------------+\n",
            "| GPU  Name        Persistence-M| Bus-Id        Disp.A | Volatile Uncorr. ECC |\n",
            "| Fan  Temp  Perf  Pwr:Usage/Cap|         Memory-Usage | GPU-Util  Compute M. |\n",
            "|                               |                      |               MIG M. |\n",
            "|===============================+======================+======================|\n",
            "|   0  Tesla T4            Off  | 00000000:00:04.0 Off |                    0 |\n",
            "| N/A   31C    P0    25W /  70W |    264MiB / 15109MiB |      1%      Default |\n",
            "|                               |                      |                  N/A |\n",
            "+-------------------------------+----------------------+----------------------+\n",
            "                                                                               \n",
            "+-----------------------------------------------------------------------------+\n",
            "| Processes:                                                                  |\n",
            "|  GPU   GI   CI        PID   Type   Process name                  GPU Memory |\n",
            "|        ID   ID                                                   Usage      |\n",
            "|=============================================================================|\n",
            "+-----------------------------------------------------------------------------+\n"
          ]
        }
      ]
    },
    {
      "cell_type": "code",
      "source": [
        "import numpy as np\n",
        "import pandas as pd\n",
        "import matplotlib.pyplot as plt\n",
        "import os\n",
        "\n",
        "from tensorflow.keras.layers import Input, Lambda, Dense, Flatten,Dropout\n",
        "from tensorflow.keras.models import Model\n",
        "#from keras.applications.vgg19 import VGG19\n",
        "from keras.applications.mobilenet import MobileNet\n",
        "from tensorflow.keras.applications.mobilenet import preprocess_input\n",
        "from tensorflow.keras.preprocessing import image\n",
        "from tensorflow.keras.preprocessing.image import ImageDataGenerator,load_img\n",
        "from tensorflow.keras.models import Sequential\n",
        "import numpy as np\n",
        "from glob import glob\n",
        "import matplotlib.pyplot as plt"
      ],
      "metadata": {
        "id": "D5sDyVGEbVDp"
      },
      "execution_count": null,
      "outputs": []
    },
    {
      "cell_type": "code",
      "source": [
        "IMAGE_SIZE = [256, 256]\n",
        "\n",
        "train_path = '/content/drive/MyDrive/Datasets/PlantVillage/train'\n",
        "valid_path = '/content/drive/MyDrive/Datasets/PlantVillage/val'"
      ],
      "metadata": {
        "id": "U3O8mq0lbVGe"
      },
      "execution_count": null,
      "outputs": []
    },
    {
      "cell_type": "code",
      "source": [
        "base = MobileNet(input_shape=IMAGE_SIZE + [3], weights='imagenet', include_top=False, dropout=0.5)\n",
        "base.output"
      ],
      "metadata": {
        "colab": {
          "base_uri": "https://localhost:8080/"
        },
        "id": "pPEtu70dbVJa",
        "outputId": "3246407a-2d3c-44d5-91d8-9522a1ca3a7a"
      },
      "execution_count": null,
      "outputs": [
        {
          "output_type": "stream",
          "name": "stdout",
          "text": [
            "WARNING:tensorflow:`input_shape` is undefined or non-square, or `rows` is not in [128, 160, 192, 224]. Weights for input shape (224, 224) will be loaded as the default.\n",
            "Downloading data from https://storage.googleapis.com/tensorflow/keras-applications/mobilenet/mobilenet_1_0_224_tf_no_top.h5\n",
            "17227776/17225924 [==============================] - 0s 0us/step\n",
            "17235968/17225924 [==============================] - 0s 0us/step\n"
          ]
        },
        {
          "output_type": "execute_result",
          "data": {
            "text/plain": [
              "<KerasTensor: shape=(None, 8, 8, 1024) dtype=float32 (created by layer 'conv_pw_13_relu')>"
            ]
          },
          "metadata": {},
          "execution_count": 7
        }
      ]
    },
    {
      "cell_type": "code",
      "source": [
        "for layer in base.layers:\n",
        "    layer.trainable = False"
      ],
      "metadata": {
        "id": "ljIl6fkBbVOq"
      },
      "execution_count": null,
      "outputs": []
    },
    {
      "cell_type": "code",
      "source": [
        "x = Flatten()(base.output)\n",
        "x=Dropout(0.5)(x)"
      ],
      "metadata": {
        "id": "X1yIqdHDbVRn"
      },
      "execution_count": null,
      "outputs": []
    },
    {
      "cell_type": "code",
      "source": [
        "prediction = Dense(38, activation='softmax')(x)\n",
        "\n",
        "# create a model object\n",
        "model = Model(inputs=base.input, outputs=prediction)"
      ],
      "metadata": {
        "id": "rGxlgF7fbVYx"
      },
      "execution_count": null,
      "outputs": []
    },
    {
      "cell_type": "code",
      "source": [
        "model.summary()"
      ],
      "metadata": {
        "colab": {
          "base_uri": "https://localhost:8080/"
        },
        "id": "S7mFp_R0bVcY",
        "outputId": "5b975580-3806-4bee-c2b4-3f7f0a00865f"
      },
      "execution_count": null,
      "outputs": [
        {
          "output_type": "stream",
          "name": "stdout",
          "text": [
            "Model: \"model\"\n",
            "_________________________________________________________________\n",
            " Layer (type)                Output Shape              Param #   \n",
            "=================================================================\n",
            " input_1 (InputLayer)        [(None, 256, 256, 3)]     0         \n",
            "                                                                 \n",
            " conv1 (Conv2D)              (None, 128, 128, 32)      864       \n",
            "                                                                 \n",
            " conv1_bn (BatchNormalizatio  (None, 128, 128, 32)     128       \n",
            " n)                                                              \n",
            "                                                                 \n",
            " conv1_relu (ReLU)           (None, 128, 128, 32)      0         \n",
            "                                                                 \n",
            " conv_dw_1 (DepthwiseConv2D)  (None, 128, 128, 32)     288       \n",
            "                                                                 \n",
            " conv_dw_1_bn (BatchNormaliz  (None, 128, 128, 32)     128       \n",
            " ation)                                                          \n",
            "                                                                 \n",
            " conv_dw_1_relu (ReLU)       (None, 128, 128, 32)      0         \n",
            "                                                                 \n",
            " conv_pw_1 (Conv2D)          (None, 128, 128, 64)      2048      \n",
            "                                                                 \n",
            " conv_pw_1_bn (BatchNormaliz  (None, 128, 128, 64)     256       \n",
            " ation)                                                          \n",
            "                                                                 \n",
            " conv_pw_1_relu (ReLU)       (None, 128, 128, 64)      0         \n",
            "                                                                 \n",
            " conv_pad_2 (ZeroPadding2D)  (None, 129, 129, 64)      0         \n",
            "                                                                 \n",
            " conv_dw_2 (DepthwiseConv2D)  (None, 64, 64, 64)       576       \n",
            "                                                                 \n",
            " conv_dw_2_bn (BatchNormaliz  (None, 64, 64, 64)       256       \n",
            " ation)                                                          \n",
            "                                                                 \n",
            " conv_dw_2_relu (ReLU)       (None, 64, 64, 64)        0         \n",
            "                                                                 \n",
            " conv_pw_2 (Conv2D)          (None, 64, 64, 128)       8192      \n",
            "                                                                 \n",
            " conv_pw_2_bn (BatchNormaliz  (None, 64, 64, 128)      512       \n",
            " ation)                                                          \n",
            "                                                                 \n",
            " conv_pw_2_relu (ReLU)       (None, 64, 64, 128)       0         \n",
            "                                                                 \n",
            " conv_dw_3 (DepthwiseConv2D)  (None, 64, 64, 128)      1152      \n",
            "                                                                 \n",
            " conv_dw_3_bn (BatchNormaliz  (None, 64, 64, 128)      512       \n",
            " ation)                                                          \n",
            "                                                                 \n",
            " conv_dw_3_relu (ReLU)       (None, 64, 64, 128)       0         \n",
            "                                                                 \n",
            " conv_pw_3 (Conv2D)          (None, 64, 64, 128)       16384     \n",
            "                                                                 \n",
            " conv_pw_3_bn (BatchNormaliz  (None, 64, 64, 128)      512       \n",
            " ation)                                                          \n",
            "                                                                 \n",
            " conv_pw_3_relu (ReLU)       (None, 64, 64, 128)       0         \n",
            "                                                                 \n",
            " conv_pad_4 (ZeroPadding2D)  (None, 65, 65, 128)       0         \n",
            "                                                                 \n",
            " conv_dw_4 (DepthwiseConv2D)  (None, 32, 32, 128)      1152      \n",
            "                                                                 \n",
            " conv_dw_4_bn (BatchNormaliz  (None, 32, 32, 128)      512       \n",
            " ation)                                                          \n",
            "                                                                 \n",
            " conv_dw_4_relu (ReLU)       (None, 32, 32, 128)       0         \n",
            "                                                                 \n",
            " conv_pw_4 (Conv2D)          (None, 32, 32, 256)       32768     \n",
            "                                                                 \n",
            " conv_pw_4_bn (BatchNormaliz  (None, 32, 32, 256)      1024      \n",
            " ation)                                                          \n",
            "                                                                 \n",
            " conv_pw_4_relu (ReLU)       (None, 32, 32, 256)       0         \n",
            "                                                                 \n",
            " conv_dw_5 (DepthwiseConv2D)  (None, 32, 32, 256)      2304      \n",
            "                                                                 \n",
            " conv_dw_5_bn (BatchNormaliz  (None, 32, 32, 256)      1024      \n",
            " ation)                                                          \n",
            "                                                                 \n",
            " conv_dw_5_relu (ReLU)       (None, 32, 32, 256)       0         \n",
            "                                                                 \n",
            " conv_pw_5 (Conv2D)          (None, 32, 32, 256)       65536     \n",
            "                                                                 \n",
            " conv_pw_5_bn (BatchNormaliz  (None, 32, 32, 256)      1024      \n",
            " ation)                                                          \n",
            "                                                                 \n",
            " conv_pw_5_relu (ReLU)       (None, 32, 32, 256)       0         \n",
            "                                                                 \n",
            " conv_pad_6 (ZeroPadding2D)  (None, 33, 33, 256)       0         \n",
            "                                                                 \n",
            " conv_dw_6 (DepthwiseConv2D)  (None, 16, 16, 256)      2304      \n",
            "                                                                 \n",
            " conv_dw_6_bn (BatchNormaliz  (None, 16, 16, 256)      1024      \n",
            " ation)                                                          \n",
            "                                                                 \n",
            " conv_dw_6_relu (ReLU)       (None, 16, 16, 256)       0         \n",
            "                                                                 \n",
            " conv_pw_6 (Conv2D)          (None, 16, 16, 512)       131072    \n",
            "                                                                 \n",
            " conv_pw_6_bn (BatchNormaliz  (None, 16, 16, 512)      2048      \n",
            " ation)                                                          \n",
            "                                                                 \n",
            " conv_pw_6_relu (ReLU)       (None, 16, 16, 512)       0         \n",
            "                                                                 \n",
            " conv_dw_7 (DepthwiseConv2D)  (None, 16, 16, 512)      4608      \n",
            "                                                                 \n",
            " conv_dw_7_bn (BatchNormaliz  (None, 16, 16, 512)      2048      \n",
            " ation)                                                          \n",
            "                                                                 \n",
            " conv_dw_7_relu (ReLU)       (None, 16, 16, 512)       0         \n",
            "                                                                 \n",
            " conv_pw_7 (Conv2D)          (None, 16, 16, 512)       262144    \n",
            "                                                                 \n",
            " conv_pw_7_bn (BatchNormaliz  (None, 16, 16, 512)      2048      \n",
            " ation)                                                          \n",
            "                                                                 \n",
            " conv_pw_7_relu (ReLU)       (None, 16, 16, 512)       0         \n",
            "                                                                 \n",
            " conv_dw_8 (DepthwiseConv2D)  (None, 16, 16, 512)      4608      \n",
            "                                                                 \n",
            " conv_dw_8_bn (BatchNormaliz  (None, 16, 16, 512)      2048      \n",
            " ation)                                                          \n",
            "                                                                 \n",
            " conv_dw_8_relu (ReLU)       (None, 16, 16, 512)       0         \n",
            "                                                                 \n",
            " conv_pw_8 (Conv2D)          (None, 16, 16, 512)       262144    \n",
            "                                                                 \n",
            " conv_pw_8_bn (BatchNormaliz  (None, 16, 16, 512)      2048      \n",
            " ation)                                                          \n",
            "                                                                 \n",
            " conv_pw_8_relu (ReLU)       (None, 16, 16, 512)       0         \n",
            "                                                                 \n",
            " conv_dw_9 (DepthwiseConv2D)  (None, 16, 16, 512)      4608      \n",
            "                                                                 \n",
            " conv_dw_9_bn (BatchNormaliz  (None, 16, 16, 512)      2048      \n",
            " ation)                                                          \n",
            "                                                                 \n",
            " conv_dw_9_relu (ReLU)       (None, 16, 16, 512)       0         \n",
            "                                                                 \n",
            " conv_pw_9 (Conv2D)          (None, 16, 16, 512)       262144    \n",
            "                                                                 \n",
            " conv_pw_9_bn (BatchNormaliz  (None, 16, 16, 512)      2048      \n",
            " ation)                                                          \n",
            "                                                                 \n",
            " conv_pw_9_relu (ReLU)       (None, 16, 16, 512)       0         \n",
            "                                                                 \n",
            " conv_dw_10 (DepthwiseConv2D  (None, 16, 16, 512)      4608      \n",
            " )                                                               \n",
            "                                                                 \n",
            " conv_dw_10_bn (BatchNormali  (None, 16, 16, 512)      2048      \n",
            " zation)                                                         \n",
            "                                                                 \n",
            " conv_dw_10_relu (ReLU)      (None, 16, 16, 512)       0         \n",
            "                                                                 \n",
            " conv_pw_10 (Conv2D)         (None, 16, 16, 512)       262144    \n",
            "                                                                 \n",
            " conv_pw_10_bn (BatchNormali  (None, 16, 16, 512)      2048      \n",
            " zation)                                                         \n",
            "                                                                 \n",
            " conv_pw_10_relu (ReLU)      (None, 16, 16, 512)       0         \n",
            "                                                                 \n",
            " conv_dw_11 (DepthwiseConv2D  (None, 16, 16, 512)      4608      \n",
            " )                                                               \n",
            "                                                                 \n",
            " conv_dw_11_bn (BatchNormali  (None, 16, 16, 512)      2048      \n",
            " zation)                                                         \n",
            "                                                                 \n",
            " conv_dw_11_relu (ReLU)      (None, 16, 16, 512)       0         \n",
            "                                                                 \n",
            " conv_pw_11 (Conv2D)         (None, 16, 16, 512)       262144    \n",
            "                                                                 \n",
            " conv_pw_11_bn (BatchNormali  (None, 16, 16, 512)      2048      \n",
            " zation)                                                         \n",
            "                                                                 \n",
            " conv_pw_11_relu (ReLU)      (None, 16, 16, 512)       0         \n",
            "                                                                 \n",
            " conv_pad_12 (ZeroPadding2D)  (None, 17, 17, 512)      0         \n",
            "                                                                 \n",
            " conv_dw_12 (DepthwiseConv2D  (None, 8, 8, 512)        4608      \n",
            " )                                                               \n",
            "                                                                 \n",
            " conv_dw_12_bn (BatchNormali  (None, 8, 8, 512)        2048      \n",
            " zation)                                                         \n",
            "                                                                 \n",
            " conv_dw_12_relu (ReLU)      (None, 8, 8, 512)         0         \n",
            "                                                                 \n",
            " conv_pw_12 (Conv2D)         (None, 8, 8, 1024)        524288    \n",
            "                                                                 \n",
            " conv_pw_12_bn (BatchNormali  (None, 8, 8, 1024)       4096      \n",
            " zation)                                                         \n",
            "                                                                 \n",
            " conv_pw_12_relu (ReLU)      (None, 8, 8, 1024)        0         \n",
            "                                                                 \n",
            " conv_dw_13 (DepthwiseConv2D  (None, 8, 8, 1024)       9216      \n",
            " )                                                               \n",
            "                                                                 \n",
            " conv_dw_13_bn (BatchNormali  (None, 8, 8, 1024)       4096      \n",
            " zation)                                                         \n",
            "                                                                 \n",
            " conv_dw_13_relu (ReLU)      (None, 8, 8, 1024)        0         \n",
            "                                                                 \n",
            " conv_pw_13 (Conv2D)         (None, 8, 8, 1024)        1048576   \n",
            "                                                                 \n",
            " conv_pw_13_bn (BatchNormali  (None, 8, 8, 1024)       4096      \n",
            " zation)                                                         \n",
            "                                                                 \n",
            " conv_pw_13_relu (ReLU)      (None, 8, 8, 1024)        0         \n",
            "                                                                 \n",
            " flatten (Flatten)           (None, 65536)             0         \n",
            "                                                                 \n",
            " dropout (Dropout)           (None, 65536)             0         \n",
            "                                                                 \n",
            " dense (Dense)               (None, 38)                2490406   \n",
            "                                                                 \n",
            "=================================================================\n",
            "Total params: 5,719,270\n",
            "Trainable params: 2,490,406\n",
            "Non-trainable params: 3,228,864\n",
            "_________________________________________________________________\n"
          ]
        }
      ]
    },
    {
      "cell_type": "code",
      "source": [
        "import tensorflow as tf\n",
        "from tensorflow.keras import optimizers\n",
        "\n",
        "model.compile (loss = 'categorical_crossentropy',\n",
        "              optimizer = optimizers.Adam(),\n",
        "              metrics=['acc',tf.keras.metrics.TruePositives(),tf.keras.metrics.TrueNegatives(),tf.keras.metrics.FalsePositives(),tf.keras.metrics.FalseNegatives(),tf.keras.metrics.Precision(),tf.keras.metrics.Recall()])"
      ],
      "metadata": {
        "id": "w--w6MqHbvzu"
      },
      "execution_count": null,
      "outputs": []
    },
    {
      "cell_type": "code",
      "source": [
        "from tensorflow.keras.preprocessing.image import ImageDataGenerator\n",
        "\n",
        "train_datagen = ImageDataGenerator(rescale = 1./255,shear_range = 0.2,\n",
        "                                   zoom_range = 0.2,\n",
        "                                   horizontal_flip = True)\n",
        "\n",
        "test_datagen = ImageDataGenerator(rescale = 1./255)"
      ],
      "metadata": {
        "id": "7_eAX90Ibv3W"
      },
      "execution_count": null,
      "outputs": []
    },
    {
      "cell_type": "code",
      "source": [
        "training_set = train_datagen.flow_from_directory(train_path,\n",
        "                                                 \n",
        "                                                 target_size = (256, 256),\n",
        "                                                 batch_size = 32,\n",
        "                                                 class_mode = 'categorical')"
      ],
      "metadata": {
        "colab": {
          "base_uri": "https://localhost:8080/"
        },
        "id": "E3AG427Tb1VH",
        "outputId": "ee13c16c-a6e6-4396-fda4-c344b8e098cb"
      },
      "execution_count": null,
      "outputs": [
        {
          "output_type": "stream",
          "name": "stdout",
          "text": [
            "Found 43444 images belonging to 38 classes.\n"
          ]
        }
      ]
    },
    {
      "cell_type": "code",
      "source": [
        "test_set = test_datagen.flow_from_directory(valid_path,\n",
        "                                            target_size = (256, 256),\n",
        "                                            batch_size = 32,\n",
        "                                            class_mode = 'categorical')"
      ],
      "metadata": {
        "colab": {
          "base_uri": "https://localhost:8080/"
        },
        "id": "Dt_lpruzb1j8",
        "outputId": "01f9e2a6-1af2-4442-bc6d-75f7b2f4fe6c"
      },
      "execution_count": null,
      "outputs": [
        {
          "output_type": "stream",
          "name": "stdout",
          "text": [
            "Found 10871 images belonging to 38 classes.\n"
          ]
        }
      ]
    },
    {
      "cell_type": "code",
      "source": [
        "r = model.fit(\n",
        "  training_set,\n",
        "  validation_data=test_set,\n",
        "  epochs=25)"
      ],
      "metadata": {
        "colab": {
          "base_uri": "https://localhost:8080/"
        },
        "id": "dbo6RizSb7DM",
        "outputId": "8964d361-2423-4c3e-c6e8-9fc339c2ac2e"
      },
      "execution_count": null,
      "outputs": [
        {
          "output_type": "stream",
          "name": "stdout",
          "text": [
            "Epoch 1/25\n",
            "1358/1358 [==============================] - 9462s 7s/step - loss: 2.3227 - acc: 0.8811 - true_positives: 38261.0000 - true_negatives: 1602321.0000 - false_positives: 5107.0000 - false_negatives: 5183.0000 - precision: 0.8822 - recall: 0.8807 - val_loss: 1.5474 - val_acc: 0.9317 - val_true_positives: 10128.0000 - val_true_negatives: 401486.0000 - val_false_positives: 741.0000 - val_false_negatives: 743.0000 - val_precision: 0.9318 - val_recall: 0.9317\n",
            "Epoch 2/25\n",
            "1358/1358 [==============================] - 695s 512ms/step - loss: 1.6418 - acc: 0.9416 - true_positives: 40904.0000 - true_negatives: 1604893.0000 - false_positives: 2535.0000 - false_negatives: 2540.0000 - precision: 0.9416 - recall: 0.9415 - val_loss: 1.1067 - val_acc: 0.9607 - val_true_positives: 10444.0000 - val_true_negatives: 401800.0000 - val_false_positives: 427.0000 - val_false_negatives: 427.0000 - val_precision: 0.9607 - val_recall: 0.9607\n",
            "Epoch 3/25\n",
            "1358/1358 [==============================] - 696s 513ms/step - loss: 1.5186 - acc: 0.9543 - true_positives: 41459.0000 - true_negatives: 1605445.0000 - false_positives: 1983.0000 - false_negatives: 1985.0000 - precision: 0.9544 - recall: 0.9543 - val_loss: 1.3899 - val_acc: 0.9635 - val_true_positives: 10474.0000 - val_true_negatives: 401831.0000 - val_false_positives: 396.0000 - val_false_negatives: 397.0000 - val_precision: 0.9636 - val_recall: 0.9635\n",
            "Epoch 4/25\n",
            "1358/1358 [==============================] - 694s 511ms/step - loss: 1.4025 - acc: 0.9612 - true_positives: 41760.0000 - true_negatives: 1605744.0000 - false_positives: 1684.0000 - false_negatives: 1684.0000 - precision: 0.9612 - recall: 0.9612 - val_loss: 1.6735 - val_acc: 0.9631 - val_true_positives: 10470.0000 - val_true_negatives: 401826.0000 - val_false_positives: 401.0000 - val_false_negatives: 401.0000 - val_precision: 0.9631 - val_recall: 0.9631\n",
            "Epoch 5/25\n",
            "1358/1358 [==============================] - 696s 513ms/step - loss: 1.3188 - acc: 0.9662 - true_positives: 41975.0000 - true_negatives: 1605959.0000 - false_positives: 1469.0000 - false_negatives: 1469.0000 - precision: 0.9662 - recall: 0.9662 - val_loss: 1.4317 - val_acc: 0.9696 - val_true_positives: 10540.0000 - val_true_negatives: 401896.0000 - val_false_positives: 331.0000 - val_false_negatives: 331.0000 - val_precision: 0.9696 - val_recall: 0.9696\n",
            "Epoch 6/25\n",
            "1358/1358 [==============================] - 702s 517ms/step - loss: 1.1535 - acc: 0.9711 - true_positives: 42190.0000 - true_negatives: 1606174.0000 - false_positives: 1254.0000 - false_negatives: 1254.0000 - precision: 0.9711 - recall: 0.9711 - val_loss: 1.4171 - val_acc: 0.9723 - val_true_positives: 10570.0000 - val_true_negatives: 401926.0000 - val_false_positives: 301.0000 - val_false_negatives: 301.0000 - val_precision: 0.9723 - val_recall: 0.9723\n",
            "Epoch 7/25\n",
            "1358/1358 [==============================] - 698s 514ms/step - loss: 1.2120 - acc: 0.9729 - true_positives: 42267.0000 - true_negatives: 1606251.0000 - false_positives: 1177.0000 - false_negatives: 1177.0000 - precision: 0.9729 - recall: 0.9729 - val_loss: 1.6563 - val_acc: 0.9681 - val_true_positives: 10524.0000 - val_true_negatives: 401880.0000 - val_false_positives: 347.0000 - val_false_negatives: 347.0000 - val_precision: 0.9681 - val_recall: 0.9681\n",
            "Epoch 8/25\n",
            "1358/1358 [==============================] - 698s 514ms/step - loss: 1.1218 - acc: 0.9750 - true_positives: 42356.0000 - true_negatives: 1606340.0000 - false_positives: 1088.0000 - false_negatives: 1088.0000 - precision: 0.9750 - recall: 0.9750 - val_loss: 1.5894 - val_acc: 0.9721 - val_true_positives: 10568.0000 - val_true_negatives: 401924.0000 - val_false_positives: 303.0000 - val_false_negatives: 303.0000 - val_precision: 0.9721 - val_recall: 0.9721\n",
            "Epoch 9/25\n",
            "1358/1358 [==============================] - 711s 523ms/step - loss: 1.0798 - acc: 0.9775 - true_positives: 42467.0000 - true_negatives: 1606451.0000 - false_positives: 977.0000 - false_negatives: 977.0000 - precision: 0.9775 - recall: 0.9775 - val_loss: 1.9944 - val_acc: 0.9666 - val_true_positives: 10508.0000 - val_true_negatives: 401864.0000 - val_false_positives: 363.0000 - val_false_negatives: 363.0000 - val_precision: 0.9666 - val_recall: 0.9666\n",
            "Epoch 10/25\n",
            "1358/1358 [==============================] - 702s 517ms/step - loss: 1.0843 - acc: 0.9775 - true_positives: 42465.0000 - true_negatives: 1606449.0000 - false_positives: 979.0000 - false_negatives: 979.0000 - precision: 0.9775 - recall: 0.9775 - val_loss: 1.6692 - val_acc: 0.9716 - val_true_positives: 10562.0000 - val_true_negatives: 401918.0000 - val_false_positives: 309.0000 - val_false_negatives: 309.0000 - val_precision: 0.9716 - val_recall: 0.9716\n",
            "Epoch 11/25\n",
            "1358/1358 [==============================] - 699s 514ms/step - loss: 1.0800 - acc: 0.9794 - true_positives: 42550.0000 - true_negatives: 1606534.0000 - false_positives: 894.0000 - false_negatives: 894.0000 - precision: 0.9794 - recall: 0.9794 - val_loss: 1.7620 - val_acc: 0.9720 - val_true_positives: 10567.0000 - val_true_negatives: 401923.0000 - val_false_positives: 304.0000 - val_false_negatives: 304.0000 - val_precision: 0.9720 - val_recall: 0.9720\n",
            "Epoch 12/25\n",
            "1358/1358 [==============================] - 695s 512ms/step - loss: 0.9568 - acc: 0.9808 - true_positives: 42611.0000 - true_negatives: 1606595.0000 - false_positives: 833.0000 - false_negatives: 833.0000 - precision: 0.9808 - recall: 0.9808 - val_loss: 2.2230 - val_acc: 0.9706 - val_true_positives: 10551.0000 - val_true_negatives: 401907.0000 - val_false_positives: 320.0000 - val_false_negatives: 320.0000 - val_precision: 0.9706 - val_recall: 0.9706\n",
            "Epoch 13/25\n",
            "1358/1358 [==============================] - 693s 511ms/step - loss: 0.9261 - acc: 0.9820 - true_positives: 42661.0000 - true_negatives: 1606645.0000 - false_positives: 783.0000 - false_negatives: 783.0000 - precision: 0.9820 - recall: 0.9820 - val_loss: 1.8330 - val_acc: 0.9741 - val_true_positives: 10589.0000 - val_true_negatives: 401945.0000 - val_false_positives: 282.0000 - val_false_negatives: 282.0000 - val_precision: 0.9741 - val_recall: 0.9741\n",
            "Epoch 14/25\n",
            "1358/1358 [==============================] - 695s 512ms/step - loss: 0.9387 - acc: 0.9825 - true_positives: 42685.0000 - true_negatives: 1606669.0000 - false_positives: 759.0000 - false_negatives: 759.0000 - precision: 0.9825 - recall: 0.9825 - val_loss: 1.5622 - val_acc: 0.9775 - val_true_positives: 10626.0000 - val_true_negatives: 401982.0000 - val_false_positives: 245.0000 - val_false_negatives: 245.0000 - val_precision: 0.9775 - val_recall: 0.9775\n",
            "Epoch 15/25\n",
            "1358/1358 [==============================] - 699s 515ms/step - loss: 0.9447 - acc: 0.9834 - true_positives: 42721.0000 - true_negatives: 1606705.0000 - false_positives: 723.0000 - false_negatives: 723.0000 - precision: 0.9834 - recall: 0.9834 - val_loss: 2.0219 - val_acc: 0.9742 - val_true_positives: 10591.0000 - val_true_negatives: 401947.0000 - val_false_positives: 280.0000 - val_false_negatives: 280.0000 - val_precision: 0.9742 - val_recall: 0.9742\n",
            "Epoch 16/25\n",
            "1358/1358 [==============================] - 701s 516ms/step - loss: 0.8471 - acc: 0.9840 - true_positives: 42746.0000 - true_negatives: 1606731.0000 - false_positives: 697.0000 - false_negatives: 698.0000 - precision: 0.9840 - recall: 0.9839 - val_loss: 1.7243 - val_acc: 0.9759 - val_true_positives: 10609.0000 - val_true_negatives: 401965.0000 - val_false_positives: 262.0000 - val_false_negatives: 262.0000 - val_precision: 0.9759 - val_recall: 0.9759\n",
            "Epoch 17/25\n",
            "1358/1358 [==============================] - 701s 516ms/step - loss: 0.8954 - acc: 0.9851 - true_positives: 42797.0000 - true_negatives: 1606781.0000 - false_positives: 647.0000 - false_negatives: 647.0000 - precision: 0.9851 - recall: 0.9851 - val_loss: 1.8005 - val_acc: 0.9758 - val_true_positives: 10608.0000 - val_true_negatives: 401964.0000 - val_false_positives: 263.0000 - val_false_negatives: 263.0000 - val_precision: 0.9758 - val_recall: 0.9758\n",
            "Epoch 18/25\n",
            "1358/1358 [==============================] - 701s 516ms/step - loss: 0.7753 - acc: 0.9866 - true_positives: 42861.0000 - true_negatives: 1606845.0000 - false_positives: 583.0000 - false_negatives: 583.0000 - precision: 0.9866 - recall: 0.9866 - val_loss: 1.8393 - val_acc: 0.9758 - val_true_positives: 10608.0000 - val_true_negatives: 401964.0000 - val_false_positives: 263.0000 - val_false_negatives: 263.0000 - val_precision: 0.9758 - val_recall: 0.9758\n",
            "Epoch 19/25\n",
            "1358/1358 [==============================] - 700s 515ms/step - loss: 0.8486 - acc: 0.9862 - true_positives: 42844.0000 - true_negatives: 1606829.0000 - false_positives: 599.0000 - false_negatives: 600.0000 - precision: 0.9862 - recall: 0.9862 - val_loss: 1.9245 - val_acc: 0.9761 - val_true_positives: 10611.0000 - val_true_negatives: 401967.0000 - val_false_positives: 260.0000 - val_false_negatives: 260.0000 - val_precision: 0.9761 - val_recall: 0.9761\n",
            "Epoch 20/25\n",
            "1358/1358 [==============================] - 703s 517ms/step - loss: 0.9544 - acc: 0.9854 - true_positives: 42811.0000 - true_negatives: 1606795.0000 - false_positives: 633.0000 - false_negatives: 633.0000 - precision: 0.9854 - recall: 0.9854 - val_loss: 2.0983 - val_acc: 0.9755 - val_true_positives: 10605.0000 - val_true_negatives: 401961.0000 - val_false_positives: 266.0000 - val_false_negatives: 266.0000 - val_precision: 0.9755 - val_recall: 0.9755\n",
            "Epoch 21/25\n",
            "1358/1358 [==============================] - 704s 518ms/step - loss: 0.8214 - acc: 0.9868 - true_positives: 42870.0000 - true_negatives: 1606854.0000 - false_positives: 574.0000 - false_negatives: 574.0000 - precision: 0.9868 - recall: 0.9868 - val_loss: 1.4348 - val_acc: 0.9816 - val_true_positives: 10671.0000 - val_true_negatives: 402027.0000 - val_false_positives: 200.0000 - val_false_negatives: 200.0000 - val_precision: 0.9816 - val_recall: 0.9816\n",
            "Epoch 22/25\n",
            "1358/1358 [==============================] - 703s 517ms/step - loss: 0.7676 - acc: 0.9877 - true_positives: 42909.0000 - true_negatives: 1606893.0000 - false_positives: 535.0000 - false_negatives: 535.0000 - precision: 0.9877 - recall: 0.9877 - val_loss: 1.5934 - val_acc: 0.9808 - val_true_positives: 10662.0000 - val_true_negatives: 402018.0000 - val_false_positives: 209.0000 - val_false_negatives: 209.0000 - val_precision: 0.9808 - val_recall: 0.9808\n",
            "Epoch 23/25\n",
            "1358/1358 [==============================] - 706s 520ms/step - loss: 0.7327 - acc: 0.9882 - true_positives: 42933.0000 - true_negatives: 1606917.0000 - false_positives: 511.0000 - false_negatives: 511.0000 - precision: 0.9882 - recall: 0.9882 - val_loss: 1.7633 - val_acc: 0.9799 - val_true_positives: 10653.0000 - val_true_negatives: 402009.0000 - val_false_positives: 218.0000 - val_false_negatives: 218.0000 - val_precision: 0.9799 - val_recall: 0.9799\n",
            "Epoch 24/25\n",
            "1358/1358 [==============================] - 712s 524ms/step - loss: 0.7449 - acc: 0.9887 - true_positives: 42952.0000 - true_negatives: 1606936.0000 - false_positives: 492.0000 - false_negatives: 492.0000 - precision: 0.9887 - recall: 0.9887 - val_loss: 1.7820 - val_acc: 0.9795 - val_true_positives: 10648.0000 - val_true_negatives: 402004.0000 - val_false_positives: 223.0000 - val_false_negatives: 223.0000 - val_precision: 0.9795 - val_recall: 0.9795\n",
            "Epoch 25/25\n",
            "1358/1358 [==============================] - 712s 524ms/step - loss: 0.7245 - acc: 0.9888 - true_positives: 42956.0000 - true_negatives: 1606940.0000 - false_positives: 488.0000 - false_negatives: 488.0000 - precision: 0.9888 - recall: 0.9888 - val_loss: 2.3459 - val_acc: 0.9736 - val_true_positives: 10584.0000 - val_true_negatives: 401940.0000 - val_false_positives: 287.0000 - val_false_negatives: 287.0000 - val_precision: 0.9736 - val_recall: 0.9736\n"
          ]
        }
      ]
    },
    {
      "cell_type": "code",
      "source": [
        "from tensorflow.keras.models import load_model\n",
        "\n",
        "model.save('mobilenet_multi.h5')"
      ],
      "metadata": {
        "id": "XLWa9pyAb7Io"
      },
      "execution_count": null,
      "outputs": []
    },
    {
      "cell_type": "code",
      "source": [
        "import matplotlib.pyplot as plt\n",
        "plt.plot(r.history['loss'], label='train loss')\n",
        "plt.plot(r.history['val_loss'], label='val loss')\n",
        "plt.plot(r.history['acc'], label='train acc')\n",
        "plt.plot(r.history['val_acc'], label='val acc')\n",
        "plt.legend()\n",
        "plt.show()"
      ],
      "metadata": {
        "colab": {
          "base_uri": "https://localhost:8080/",
          "height": 266
        },
        "id": "zH83xIggyfNm",
        "outputId": "1970981a-be17-4a63-bfd8-ffcda0a6e7aa"
      },
      "execution_count": null,
      "outputs": [
        {
          "output_type": "display_data",
          "data": {
            "image/png": "[encoded data removed]",
            "text/plain": [
              "<Figure size 432x288 with 1 Axes>"
            ]
          },
          "metadata": {
            "needs_background": "light"
          }
        }
      ]
    },
    {
      "cell_type": "code",
      "source": [
        "test_dir = '/content/drive/MyDrive/Datasets/PlantVillage/val'\n",
        "test_datagen = ImageDataGenerator(rescale=1./255)\n",
        "\n",
        "test_generator = test_datagen.flow_from_directory (\n",
        "                test_dir,\n",
        "                target_size=(256,256),\n",
        "                batch_size=32,\n",
        "                class_mode=\"categorical\")"
      ],
      "metadata": {
        "colab": {
          "base_uri": "https://localhost:8080/"
        },
        "id": "r_6mDNQiyfap",
        "outputId": "6809cd79-d436-44d0-88b7-63a2f73538e8"
      },
      "execution_count": null,
      "outputs": [
        {
          "output_type": "stream",
          "name": "stdout",
          "text": [
            "Found 10871 images belonging to 38 classes.\n"
          ]
        }
      ]
    },
    {
      "cell_type": "code",
      "source": [
        "model.evaluate(test_generator)"
      ],
      "metadata": {
        "colab": {
          "base_uri": "https://localhost:8080/"
        },
        "id": "9nDnv0WuyogP",
        "outputId": "6c41c1f2-be9f-497f-c008-75f793a6c906"
      },
      "execution_count": null,
      "outputs": [
        {
          "output_type": "stream",
          "name": "stdout",
          "text": [
            "340/340 [==============================] - 52s 154ms/step - loss: 2.3459 - acc: 0.9736 - true_positives: 10584.0000 - true_negatives: 401940.0000 - false_positives: 287.0000 - false_negatives: 287.0000 - precision: 0.9736 - recall: 0.9736\n"
          ]
        },
        {
          "output_type": "execute_result",
          "data": {
            "text/plain": [
              "[2.345896005630493,\n",
              " 0.9735994935035706,\n",
              " 10584.0,\n",
              " 401940.0,\n",
              " 287.0,\n",
              " 287.0,\n",
              " 0.9735994935035706,\n",
              " 0.9735994935035706]"
            ]
          },
          "metadata": {},
          "execution_count": 20
        }
      ]
    },
    {
      "cell_type": "code",
      "source": [
        ""
      ],
      "metadata": {
        "id": "ez6QCoNwzBCh"
      },
      "execution_count": null,
      "outputs": []
    }
  ]
}