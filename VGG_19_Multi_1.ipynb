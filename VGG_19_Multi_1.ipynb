{
  "cells": [
    {
      "cell_type": "code",
      "execution_count": null,
      "metadata": {
        "colab": {
          "base_uri": "https://localhost:8080/"
        },
        "id": "ASiaqEYpuRBm",
        "outputId": "962bb25c-0911-4fef-b77c-fc4c52a4f70f"
      },
      "outputs": [
        {
          "output_type": "stream",
          "name": "stdout",
          "text": [
            "Drive already mounted at /content/drive/; to attempt to forcibly remount, call drive.mount(\"/content/drive/\", force_remount=True).\n"
          ]
        }
      ],
      "source": [
        "from google.colab import drive\n",
        "drive.mount('/content/drive/')"
      ]
    },
    {
      "cell_type": "code",
      "execution_count": null,
      "metadata": {
        "id": "MuA6KERtuSsv"
      },
      "outputs": [],
      "source": [
        "from tensorflow.compat.v1 import ConfigProto\n",
        "from tensorflow.compat.v1 import InteractiveSession\n",
        "\n",
        "config = ConfigProto()\n",
        "config.gpu_options.allow_growth = True\n",
        "session = InteractiveSession(config=config)"
      ]
    },
    {
      "cell_type": "code",
      "execution_count": null,
      "metadata": {
        "id": "tiJDieBx4rQq"
      },
      "outputs": [],
      "source": [
        ""
      ]
    },
    {
      "cell_type": "code",
      "source": [
        "import tensorflow as tf\n",
        "print(\"Num GPUs Available: \", len(tf.config.list_physical_devices('GPU')))"
      ],
      "metadata": {
        "colab": {
          "base_uri": "https://localhost:8080/"
        },
        "id": "oTvBVBBESQVC",
        "outputId": "b48caca5-a97e-423a-cb5d-c6e97f02b89c"
      },
      "execution_count": null,
      "outputs": [
        {
          "output_type": "stream",
          "name": "stdout",
          "text": [
            "Num GPUs Available:  1\n"
          ]
        }
      ]
    },
    {
      "cell_type": "code",
      "execution_count": null,
      "metadata": {
        "colab": {
          "base_uri": "https://localhost:8080/"
        },
        "id": "_4FZ7QuZ4yGb",
        "outputId": "61a28231-9bbe-413d-ec1f-d5fd7cf39b66"
      },
      "outputs": [
        {
          "output_type": "stream",
          "name": "stdout",
          "text": [
            "Tue Feb 22 06:45:47 2022       \n",
            "+-----------------------------------------------------------------------------+\n",
            "| NVIDIA-SMI 460.32.03    Driver Version: 460.32.03    CUDA Version: 11.2     |\n",
            "|-------------------------------+----------------------+----------------------+\n",
            "| GPU  Name        Persistence-M| Bus-Id        Disp.A | Volatile Uncorr. ECC |\n",
            "| Fan  Temp  Perf  Pwr:Usage/Cap|         Memory-Usage | GPU-Util  Compute M. |\n",
            "|                               |                      |               MIG M. |\n",
            "|===============================+======================+======================|\n",
            "|   0  Tesla P100-PCIE...  Off  | 00000000:00:04.0 Off |                    0 |\n",
            "| N/A   35C    P0    33W / 250W |    375MiB / 16280MiB |      1%      Default |\n",
            "|                               |                      |                  N/A |\n",
            "+-------------------------------+----------------------+----------------------+\n",
            "                                                                               \n",
            "+-----------------------------------------------------------------------------+\n",
            "| Processes:                                                                  |\n",
            "|  GPU   GI   CI        PID   Type   Process name                  GPU Memory |\n",
            "|        ID   ID                                                   Usage      |\n",
            "|=============================================================================|\n",
            "+-----------------------------------------------------------------------------+\n"
          ]
        }
      ],
      "source": [
        "!nvidia-smi"
      ]
    },
    {
      "cell_type": "code",
      "execution_count": null,
      "metadata": {
        "id": "MwbtqwxFuU0U"
      },
      "outputs": [],
      "source": [
        "import numpy as np\n",
        "import pandas as pd\n",
        "import matplotlib.pyplot as plt\n",
        "import os\n",
        "\n",
        "from tensorflow.keras.layers import Input, Lambda, Dense, Flatten\n",
        "from tensorflow.keras.models import Model\n",
        "from keras.applications.vgg19 import VGG19\n",
        "#from keras.applications.mobilenet import MobileNet\n",
        "from tensorflow.keras.applications.vgg19 import preprocess_input\n",
        "from tensorflow.keras.preprocessing import image\n",
        "from tensorflow.keras.preprocessing.image import ImageDataGenerator,load_img\n",
        "from tensorflow.keras.models import Sequential\n",
        "import numpy as np\n",
        "from glob import glob\n",
        "import matplotlib.pyplot as plt"
      ]
    },
    {
      "cell_type": "code",
      "execution_count": null,
      "metadata": {
        "id": "rydbFveguXkg"
      },
      "outputs": [],
      "source": [
        "IMAGE_SIZE = [256, 256]\n",
        "\n",
        "train_path = '/content/drive/MyDrive/Datasets/PlantVillage/train'\n",
        "valid_path = '/content/drive/MyDrive/Datasets/PlantVillage/val'"
      ]
    },
    {
      "cell_type": "code",
      "execution_count": null,
      "metadata": {
        "colab": {
          "base_uri": "https://localhost:8080/"
        },
        "id": "dT7YZksxubRO",
        "outputId": "38c5020f-2c72-4486-84b6-82d9ecefdfea"
      },
      "outputs": [
        {
          "output_type": "stream",
          "name": "stdout",
          "text": [
            "Downloading data from https://storage.googleapis.com/tensorflow/keras-applications/vgg19/vgg19_weights_tf_dim_ordering_tf_kernels_notop.h5\n",
            "80142336/80134624 [==============================] - 1s 0us/step\n",
            "80150528/80134624 [==============================] - 1s 0us/step\n"
          ]
        },
        {
          "output_type": "execute_result",
          "data": {
            "text/plain": [
              "<KerasTensor: shape=(None, 8, 8, 512) dtype=float32 (created by layer 'block5_pool')>"
            ]
          },
          "metadata": {},
          "execution_count": 10
        }
      ],
      "source": [
        "base = VGG19(input_shape=IMAGE_SIZE + [3], weights='imagenet', include_top=False)\n",
        "base.output"
      ]
    },
    {
      "cell_type": "code",
      "execution_count": null,
      "metadata": {
        "id": "d8c2-GLiufvB"
      },
      "outputs": [],
      "source": [
        "for layer in base.layers:\n",
        "    layer.trainable = False"
      ]
    },
    {
      "cell_type": "code",
      "execution_count": null,
      "metadata": {
        "colab": {
          "base_uri": "https://localhost:8080/"
        },
        "id": "I4jGTW2FvY9f",
        "outputId": "5e46f01e-2cc6-4c62-be2d-605f0a649279"
      },
      "outputs": [
        {
          "output_type": "stream",
          "name": "stdout",
          "text": [
            "38\n"
          ]
        }
      ],
      "source": [
        "folders = glob('/content/drive/MyDrive/Datasets/PlantVillage/train/*')\n",
        "print(len(folders))"
      ]
    },
    {
      "cell_type": "code",
      "execution_count": null,
      "metadata": {
        "id": "PqvbdU-9uieg"
      },
      "outputs": [],
      "source": [
        "x = Flatten()(base.output)"
      ]
    },
    {
      "cell_type": "code",
      "execution_count": null,
      "metadata": {
        "id": "V6h7Nxv3ukkP"
      },
      "outputs": [],
      "source": [
        "prediction = Dense(len(folders), activation='softmax')(x)\n",
        "\n",
        "# create a model object\n",
        "model = Model(inputs=base.input, outputs=prediction)"
      ]
    },
    {
      "cell_type": "code",
      "execution_count": null,
      "metadata": {
        "colab": {
          "base_uri": "https://localhost:8080/"
        },
        "id": "PGYbaFRauoeL",
        "outputId": "3ac7d359-f197-45f6-8527-0a1b25e4cd6f"
      },
      "outputs": [
        {
          "output_type": "stream",
          "name": "stdout",
          "text": [
            "Model: \"model\"\n",
            "_________________________________________________________________\n",
            " Layer (type)                Output Shape              Param #   \n",
            "=================================================================\n",
            " input_1 (InputLayer)        [(None, 256, 256, 3)]     0         \n",
            "                                                                 \n",
            " block1_conv1 (Conv2D)       (None, 256, 256, 64)      1792      \n",
            "                                                                 \n",
            " block1_conv2 (Conv2D)       (None, 256, 256, 64)      36928     \n",
            "                                                                 \n",
            " block1_pool (MaxPooling2D)  (None, 128, 128, 64)      0         \n",
            "                                                                 \n",
            " block2_conv1 (Conv2D)       (None, 128, 128, 128)     73856     \n",
            "                                                                 \n",
            " block2_conv2 (Conv2D)       (None, 128, 128, 128)     147584    \n",
            "                                                                 \n",
            " block2_pool (MaxPooling2D)  (None, 64, 64, 128)       0         \n",
            "                                                                 \n",
            " block3_conv1 (Conv2D)       (None, 64, 64, 256)       295168    \n",
            "                                                                 \n",
            " block3_conv2 (Conv2D)       (None, 64, 64, 256)       590080    \n",
            "                                                                 \n",
            " block3_conv3 (Conv2D)       (None, 64, 64, 256)       590080    \n",
            "                                                                 \n",
            " block3_conv4 (Conv2D)       (None, 64, 64, 256)       590080    \n",
            "                                                                 \n",
            " block3_pool (MaxPooling2D)  (None, 32, 32, 256)       0         \n",
            "                                                                 \n",
            " block4_conv1 (Conv2D)       (None, 32, 32, 512)       1180160   \n",
            "                                                                 \n",
            " block4_conv2 (Conv2D)       (None, 32, 32, 512)       2359808   \n",
            "                                                                 \n",
            " block4_conv3 (Conv2D)       (None, 32, 32, 512)       2359808   \n",
            "                                                                 \n",
            " block4_conv4 (Conv2D)       (None, 32, 32, 512)       2359808   \n",
            "                                                                 \n",
            " block4_pool (MaxPooling2D)  (None, 16, 16, 512)       0         \n",
            "                                                                 \n",
            " block5_conv1 (Conv2D)       (None, 16, 16, 512)       2359808   \n",
            "                                                                 \n",
            " block5_conv2 (Conv2D)       (None, 16, 16, 512)       2359808   \n",
            "                                                                 \n",
            " block5_conv3 (Conv2D)       (None, 16, 16, 512)       2359808   \n",
            "                                                                 \n",
            " block5_conv4 (Conv2D)       (None, 16, 16, 512)       2359808   \n",
            "                                                                 \n",
            " block5_pool (MaxPooling2D)  (None, 8, 8, 512)         0         \n",
            "                                                                 \n",
            " flatten (Flatten)           (None, 32768)             0         \n",
            "                                                                 \n",
            " dense (Dense)               (None, 38)                1245222   \n",
            "                                                                 \n",
            "=================================================================\n",
            "Total params: 21,269,606\n",
            "Trainable params: 1,245,222\n",
            "Non-trainable params: 20,024,384\n",
            "_________________________________________________________________\n"
          ]
        }
      ],
      "source": [
        "model.summary()"
      ]
    },
    {
      "cell_type": "code",
      "execution_count": null,
      "metadata": {
        "id": "wDFwzeyuuogl"
      },
      "outputs": [],
      "source": [
        "import tensorflow as tf\n",
        "from tensorflow.keras import optimizers\n",
        "\n",
        "model.compile (loss = 'categorical_crossentropy',\n",
        "              optimizer = optimizers.RMSprop(learning_rate=1e-4),\n",
        "              metrics=['acc',tf.keras.metrics.TruePositives(),tf.keras.metrics.TrueNegatives(),tf.keras.metrics.FalsePositives(),tf.keras.metrics.FalseNegatives(),tf.keras.metrics.Precision(),tf.keras.metrics.Recall()])"
      ]
    },
    {
      "cell_type": "code",
      "execution_count": null,
      "metadata": {
        "id": "OVvBMpLpuwAg"
      },
      "outputs": [],
      "source": [
        "from tensorflow.keras.preprocessing.image import ImageDataGenerator\n",
        "\n",
        "train_datagen = ImageDataGenerator(rescale = 1./255)\n",
        "\n",
        "test_datagen = ImageDataGenerator(rescale = 1./255)"
      ]
    },
    {
      "cell_type": "code",
      "execution_count": null,
      "metadata": {
        "colab": {
          "base_uri": "https://localhost:8080/"
        },
        "id": "3eNEqugQuwHA",
        "outputId": "33d818e6-4f03-4508-dbce-a3d04793916b"
      },
      "outputs": [
        {
          "output_type": "stream",
          "name": "stdout",
          "text": [
            "Found 43444 images belonging to 38 classes.\n"
          ]
        }
      ],
      "source": [
        "training_set = train_datagen.flow_from_directory(train_path,\n",
        "                                                 \n",
        "                                                 target_size = (256, 256),\n",
        "                                                 batch_size = 32,\n",
        "                                                 class_mode = 'categorical')"
      ]
    },
    {
      "cell_type": "code",
      "execution_count": null,
      "metadata": {
        "colab": {
          "base_uri": "https://localhost:8080/"
        },
        "id": "EFvnPfJduwKi",
        "outputId": "4e3fcd32-3664-4050-eb61-5ef430ab7e81"
      },
      "outputs": [
        {
          "output_type": "stream",
          "name": "stdout",
          "text": [
            "Found 10871 images belonging to 38 classes.\n"
          ]
        }
      ],
      "source": [
        "test_set = test_datagen.flow_from_directory(valid_path,\n",
        "                                            target_size = (256, 256),\n",
        "                                            batch_size = 32,\n",
        "                                            class_mode = 'categorical')"
      ]
    },
    {
      "cell_type": "code",
      "execution_count": null,
      "metadata": {
        "colab": {
          "base_uri": "https://localhost:8080/"
        },
        "id": "BRXtTNRBu2hp",
        "outputId": "638e7bc0-5836-4d22-f23e-cee19507ede0"
      },
      "outputs": [
        {
          "output_type": "stream",
          "name": "stdout",
          "text": [
            "Epoch 1/25\n",
            "1358/1358 [==============================] - 15796s 12s/step - loss: 0.6084 - acc: 0.8348 - true_positives: 31714.0000 - true_negatives: 1605355.0000 - false_positives: 2073.0000 - false_negatives: 11730.0000 - precision: 0.9386 - recall: 0.7300 - val_loss: 0.2985 - val_acc: 0.9093 - val_true_positives: 9494.0000 - val_true_negatives: 401674.0000 - val_false_positives: 553.0000 - val_false_negatives: 1377.0000 - val_precision: 0.9450 - val_recall: 0.8733\n",
            "Epoch 2/25\n",
            "1358/1358 [==============================] - 204s 150ms/step - loss: 0.2195 - acc: 0.9312 - true_positives: 39499.0000 - true_negatives: 1605539.0000 - false_positives: 1889.0000 - false_negatives: 3945.0000 - precision: 0.9544 - recall: 0.9092 - val_loss: 0.2213 - val_acc: 0.9307 - val_true_positives: 9933.0000 - val_true_negatives: 401700.0000 - val_false_positives: 527.0000 - val_false_negatives: 938.0000 - val_precision: 0.9496 - val_recall: 0.9137\n",
            "Epoch 3/25\n",
            "1358/1358 [==============================] - 204s 150ms/step - loss: 0.1537 - acc: 0.9527 - true_positives: 40796.0000 - true_negatives: 1606005.0000 - false_positives: 1423.0000 - false_negatives: 2648.0000 - precision: 0.9663 - recall: 0.9390 - val_loss: 0.2046 - val_acc: 0.9344 - val_true_positives: 10010.0000 - val_true_negatives: 401709.0000 - val_false_positives: 518.0000 - val_false_negatives: 861.0000 - val_precision: 0.9508 - val_recall: 0.9208\n",
            "Epoch 4/25\n",
            "1358/1358 [==============================] - 204s 150ms/step - loss: 0.1192 - acc: 0.9628 - true_positives: 41482.0000 - true_negatives: 1606243.0000 - false_positives: 1185.0000 - false_negatives: 1962.0000 - precision: 0.9722 - recall: 0.9548 - val_loss: 0.1860 - val_acc: 0.9373 - val_true_positives: 10100.0000 - val_true_negatives: 401702.0000 - val_false_positives: 525.0000 - val_false_negatives: 771.0000 - val_precision: 0.9506 - val_recall: 0.9291\n",
            "Epoch 5/25\n",
            "1358/1358 [==============================] - 204s 150ms/step - loss: 0.0956 - acc: 0.9703 - true_positives: 41885.0000 - true_negatives: 1606421.0000 - false_positives: 1007.0000 - false_negatives: 1559.0000 - precision: 0.9765 - recall: 0.9641 - val_loss: 0.1639 - val_acc: 0.9475 - val_true_positives: 10224.0000 - val_true_negatives: 401774.0000 - val_false_positives: 453.0000 - val_false_negatives: 647.0000 - val_precision: 0.9576 - val_recall: 0.9405\n",
            "Epoch 6/25\n",
            "1358/1358 [==============================] - 204s 150ms/step - loss: 0.0803 - acc: 0.9763 - true_positives: 42220.0000 - true_negatives: 1606609.0000 - false_positives: 819.0000 - false_negatives: 1224.0000 - precision: 0.9810 - recall: 0.9718 - val_loss: 0.1605 - val_acc: 0.9466 - val_true_positives: 10227.0000 - val_true_negatives: 401759.0000 - val_false_positives: 468.0000 - val_false_negatives: 644.0000 - val_precision: 0.9562 - val_recall: 0.9408\n",
            "Epoch 7/25\n",
            "1358/1358 [==============================] - 204s 150ms/step - loss: 0.0672 - acc: 0.9807 - true_positives: 42445.0000 - true_negatives: 1606749.0000 - false_positives: 679.0000 - false_negatives: 999.0000 - precision: 0.9843 - recall: 0.9770 - val_loss: 0.1639 - val_acc: 0.9474 - val_true_positives: 10243.0000 - val_true_negatives: 401739.0000 - val_false_positives: 488.0000 - val_false_negatives: 628.0000 - val_precision: 0.9545 - val_recall: 0.9422\n",
            "Epoch 8/25\n",
            "1358/1358 [==============================] - 204s 151ms/step - loss: 0.0579 - acc: 0.9827 - true_positives: 42573.0000 - true_negatives: 1606820.0000 - false_positives: 608.0000 - false_negatives: 871.0000 - precision: 0.9859 - recall: 0.9800 - val_loss: 0.1503 - val_acc: 0.9518 - val_true_positives: 10284.0000 - val_true_negatives: 401781.0000 - val_false_positives: 446.0000 - val_false_negatives: 587.0000 - val_precision: 0.9584 - val_recall: 0.9460\n",
            "Epoch 9/25\n",
            "1358/1358 [==============================] - 204s 150ms/step - loss: 0.0506 - acc: 0.9855 - true_positives: 42708.0000 - true_negatives: 1606905.0000 - false_positives: 523.0000 - false_negatives: 736.0000 - precision: 0.9879 - recall: 0.9831 - val_loss: 0.1550 - val_acc: 0.9512 - val_true_positives: 10298.0000 - val_true_negatives: 401766.0000 - val_false_positives: 461.0000 - val_false_negatives: 573.0000 - val_precision: 0.9572 - val_recall: 0.9473\n",
            "Epoch 10/25\n",
            "1358/1358 [==============================] - 205s 151ms/step - loss: 0.0437 - acc: 0.9875 - true_positives: 42826.0000 - true_negatives: 1606970.0000 - false_positives: 458.0000 - false_negatives: 618.0000 - precision: 0.9894 - recall: 0.9858 - val_loss: 0.1622 - val_acc: 0.9475 - val_true_positives: 10252.0000 - val_true_negatives: 401718.0000 - val_false_positives: 509.0000 - val_false_negatives: 619.0000 - val_precision: 0.9527 - val_recall: 0.9431\n",
            "Epoch 11/25\n",
            "1358/1358 [==============================] - 204s 151ms/step - loss: 0.0381 - acc: 0.9895 - true_positives: 42923.0000 - true_negatives: 1607036.0000 - false_positives: 392.0000 - false_negatives: 521.0000 - precision: 0.9909 - recall: 0.9880 - val_loss: 0.1503 - val_acc: 0.9533 - val_true_positives: 10313.0000 - val_true_negatives: 401775.0000 - val_false_positives: 452.0000 - val_false_negatives: 558.0000 - val_precision: 0.9580 - val_recall: 0.9487\n",
            "Epoch 12/25\n",
            "1358/1358 [==============================] - 204s 151ms/step - loss: 0.0335 - acc: 0.9910 - true_positives: 43005.0000 - true_negatives: 1607096.0000 - false_positives: 332.0000 - false_negatives: 439.0000 - precision: 0.9923 - recall: 0.9899 - val_loss: 0.1544 - val_acc: 0.9521 - val_true_positives: 10315.0000 - val_true_negatives: 401768.0000 - val_false_positives: 459.0000 - val_false_negatives: 556.0000 - val_precision: 0.9574 - val_recall: 0.9489\n",
            "Epoch 13/25\n",
            "1358/1358 [==============================] - 204s 150ms/step - loss: 0.0298 - acc: 0.9922 - true_positives: 43058.0000 - true_negatives: 1607138.0000 - false_positives: 290.0000 - false_negatives: 386.0000 - precision: 0.9933 - recall: 0.9911 - val_loss: 0.1639 - val_acc: 0.9499 - val_true_positives: 10301.0000 - val_true_negatives: 401742.0000 - val_false_positives: 485.0000 - val_false_negatives: 570.0000 - val_precision: 0.9550 - val_recall: 0.9476\n",
            "Epoch 14/25\n",
            "1358/1358 [==============================] - 205s 151ms/step - loss: 0.0258 - acc: 0.9934 - true_positives: 43125.0000 - true_negatives: 1607175.0000 - false_positives: 253.0000 - false_negatives: 319.0000 - precision: 0.9942 - recall: 0.9927 - val_loss: 0.1555 - val_acc: 0.9535 - val_true_positives: 10329.0000 - val_true_negatives: 401775.0000 - val_false_positives: 452.0000 - val_false_negatives: 542.0000 - val_precision: 0.9581 - val_recall: 0.9501\n",
            "Epoch 15/25\n",
            "1358/1358 [==============================] - 205s 151ms/step - loss: 0.0228 - acc: 0.9942 - true_positives: 43162.0000 - true_negatives: 1607204.0000 - false_positives: 224.0000 - false_negatives: 282.0000 - precision: 0.9948 - recall: 0.9935 - val_loss: 0.1529 - val_acc: 0.9546 - val_true_positives: 10351.0000 - val_true_negatives: 401783.0000 - val_false_positives: 444.0000 - val_false_negatives: 520.0000 - val_precision: 0.9589 - val_recall: 0.9522\n",
            "Epoch 16/25\n",
            "1358/1358 [==============================] - 204s 150ms/step - loss: 0.0206 - acc: 0.9948 - true_positives: 43193.0000 - true_negatives: 1607236.0000 - false_positives: 192.0000 - false_negatives: 251.0000 - precision: 0.9956 - recall: 0.9942 - val_loss: 0.1654 - val_acc: 0.9502 - val_true_positives: 10302.0000 - val_true_negatives: 401729.0000 - val_false_positives: 498.0000 - val_false_negatives: 569.0000 - val_precision: 0.9539 - val_recall: 0.9477\n",
            "Epoch 17/25\n",
            "1358/1358 [==============================] - 204s 151ms/step - loss: 0.0181 - acc: 0.9960 - true_positives: 43256.0000 - true_negatives: 1607278.0000 - false_positives: 150.0000 - false_negatives: 188.0000 - precision: 0.9965 - recall: 0.9957 - val_loss: 0.1563 - val_acc: 0.9546 - val_true_positives: 10350.0000 - val_true_negatives: 401770.0000 - val_false_positives: 457.0000 - val_false_negatives: 521.0000 - val_precision: 0.9577 - val_recall: 0.9521\n",
            "Epoch 18/25\n",
            "1358/1358 [==============================] - 204s 150ms/step - loss: 0.0161 - acc: 0.9965 - true_positives: 43279.0000 - true_negatives: 1607290.0000 - false_positives: 138.0000 - false_negatives: 165.0000 - precision: 0.9968 - recall: 0.9962 - val_loss: 0.1575 - val_acc: 0.9553 - val_true_positives: 10364.0000 - val_true_negatives: 401782.0000 - val_false_positives: 445.0000 - val_false_negatives: 507.0000 - val_precision: 0.9588 - val_recall: 0.9534\n",
            "Epoch 19/25\n",
            "1358/1358 [==============================] - 204s 150ms/step - loss: 0.0145 - acc: 0.9965 - true_positives: 43276.0000 - true_negatives: 1607297.0000 - false_positives: 131.0000 - false_negatives: 168.0000 - precision: 0.9970 - recall: 0.9961 - val_loss: 0.1724 - val_acc: 0.9509 - val_true_positives: 10313.0000 - val_true_negatives: 401727.0000 - val_false_positives: 500.0000 - val_false_negatives: 558.0000 - val_precision: 0.9538 - val_recall: 0.9487\n",
            "Epoch 20/25\n",
            "1358/1358 [==============================] - 204s 150ms/step - loss: 0.0128 - acc: 0.9973 - true_positives: 43313.0000 - true_negatives: 1607325.0000 - false_positives: 103.0000 - false_negatives: 131.0000 - precision: 0.9976 - recall: 0.9970 - val_loss: 0.1739 - val_acc: 0.9530 - val_true_positives: 10329.0000 - val_true_negatives: 401753.0000 - val_false_positives: 474.0000 - val_false_negatives: 542.0000 - val_precision: 0.9561 - val_recall: 0.9501\n",
            "Epoch 21/25\n",
            "1358/1358 [==============================] - 205s 151ms/step - loss: 0.0114 - acc: 0.9972 - true_positives: 43312.0000 - true_negatives: 1607325.0000 - false_positives: 103.0000 - false_negatives: 132.0000 - precision: 0.9976 - recall: 0.9970 - val_loss: 0.1577 - val_acc: 0.9562 - val_true_positives: 10384.0000 - val_true_negatives: 401781.0000 - val_false_positives: 446.0000 - val_false_negatives: 487.0000 - val_precision: 0.9588 - val_recall: 0.9552\n",
            "Epoch 22/25\n",
            "1358/1358 [==============================] - 204s 150ms/step - loss: 0.0102 - acc: 0.9979 - true_positives: 43339.0000 - true_negatives: 1607348.0000 - false_positives: 80.0000 - false_negatives: 105.0000 - precision: 0.9982 - recall: 0.9976 - val_loss: 0.1527 - val_acc: 0.9577 - val_true_positives: 10389.0000 - val_true_negatives: 401808.0000 - val_false_positives: 419.0000 - val_false_negatives: 482.0000 - val_precision: 0.9612 - val_recall: 0.9557\n",
            "Epoch 23/25\n",
            "1358/1358 [==============================] - 205s 151ms/step - loss: 0.0088 - acc: 0.9981 - true_positives: 43358.0000 - true_negatives: 1607354.0000 - false_positives: 74.0000 - false_negatives: 86.0000 - precision: 0.9983 - recall: 0.9980 - val_loss: 0.1589 - val_acc: 0.9562 - val_true_positives: 10381.0000 - val_true_negatives: 401788.0000 - val_false_positives: 439.0000 - val_false_negatives: 490.0000 - val_precision: 0.9594 - val_recall: 0.9549\n",
            "Epoch 24/25\n",
            "1358/1358 [==============================] - 205s 151ms/step - loss: 0.0082 - acc: 0.9982 - true_positives: 43360.0000 - true_negatives: 1607354.0000 - false_positives: 74.0000 - false_negatives: 84.0000 - precision: 0.9983 - recall: 0.9981 - val_loss: 0.1769 - val_acc: 0.9537 - val_true_positives: 10350.0000 - val_true_negatives: 401745.0000 - val_false_positives: 482.0000 - val_false_negatives: 521.0000 - val_precision: 0.9555 - val_recall: 0.9521\n",
            "Epoch 25/25\n",
            "1358/1358 [==============================] - 204s 150ms/step - loss: 0.0071 - acc: 0.9985 - true_positives: 43376.0000 - true_negatives: 1607367.0000 - false_positives: 61.0000 - false_negatives: 68.0000 - precision: 0.9986 - recall: 0.9984 - val_loss: 0.1647 - val_acc: 0.9558 - val_true_positives: 10370.0000 - val_true_negatives: 401774.0000 - val_false_positives: 453.0000 - val_false_negatives: 501.0000 - val_precision: 0.9581 - val_recall: 0.9539\n"
          ]
        }
      ],
      "source": [
        "r = model.fit(\n",
        "  training_set,\n",
        "  validation_data=test_set,\n",
        "  epochs=25)"
      ]
    },
    {
      "cell_type": "code",
      "execution_count": null,
      "metadata": {
        "colab": {
          "base_uri": "https://localhost:8080/",
          "height": 35
        },
        "id": "sDqCX85pxwB1",
        "outputId": "b43c5c1a-d3b9-443f-922d-cd295a9f1c58"
      },
      "outputs": [
        {
          "output_type": "execute_result",
          "data": {
            "application/vnd.google.colaboratory.intrinsic+json": {
              "type": "string"
            },
            "text/plain": [
              "'2.8.0'"
            ]
          },
          "metadata": {},
          "execution_count": 23
        }
      ],
      "source": [
        "tf.version.VERSION"
      ]
    },
    {
      "cell_type": "code",
      "execution_count": null,
      "metadata": {
        "id": "7D23O_5Ju2qB"
      },
      "outputs": [],
      "source": [
        "from tensorflow.keras.models import load_model\n",
        "\n",
        "model.save('VGG19_multi_1.h5')"
      ]
    },
    {
      "cell_type": "code",
      "execution_count": null,
      "metadata": {
        "colab": {
          "base_uri": "https://localhost:8080/",
          "height": 265
        },
        "id": "bKMX-4zFvBHQ",
        "outputId": "a0947afe-b9ee-4177-94d6-09d7923c5288"
      },
      "outputs": [
        {
          "output_type": "display_data",
          "data": {
            "image/png": "[encoded data removed]",
            "text/plain": [
              "<Figure size 432x288 with 1 Axes>"
            ]
          },
          "metadata": {
            "needs_background": "light"
          }
        }
      ],
      "source": [
        "plt.plot(r.history['loss'], label='train loss')\n",
        "plt.plot(r.history['val_loss'], label='val loss')\n",
        "plt.plot(r.history['acc'], label='train acc')\n",
        "plt.plot(r.history['val_acc'], label='val acc')\n",
        "plt.legend()\n",
        "plt.show()"
      ]
    },
    {
      "cell_type": "code",
      "execution_count": null,
      "metadata": {
        "colab": {
          "base_uri": "https://localhost:8080/"
        },
        "id": "YO1DBahYvDlg",
        "outputId": "e99b5f43-8fc7-41ce-904e-19a97264f3f4"
      },
      "outputs": [
        {
          "output_type": "stream",
          "name": "stdout",
          "text": [
            "Found 10871 images belonging to 38 classes.\n"
          ]
        }
      ],
      "source": [
        "test_dir = '/content/drive/MyDrive/Datasets/PlantVillage/val'\n",
        "test_datagen = ImageDataGenerator(rescale=1./255)\n",
        "\n",
        "test_generator = test_datagen.flow_from_directory (\n",
        "                test_dir,\n",
        "                target_size=(256,256),\n",
        "                batch_size=32,\n",
        "                class_mode='categorical')"
      ]
    },
    {
      "cell_type": "code",
      "execution_count": null,
      "metadata": {
        "colab": {
          "base_uri": "https://localhost:8080/"
        },
        "id": "exmwBPqEvF45",
        "outputId": "d7d76c5b-47ba-46a3-cb83-d2640cc74cec"
      },
      "outputs": [
        {
          "output_type": "stream",
          "name": "stderr",
          "text": [
            "/usr/local/lib/python3.7/dist-packages/ipykernel_launcher.py:1: UserWarning: `Model.evaluate_generator` is deprecated and will be removed in a future version. Please use `Model.evaluate`, which supports generators.\n",
            "  \"\"\"Entry point for launching an IPython kernel.\n"
          ]
        },
        {
          "output_type": "execute_result",
          "data": {
            "text/plain": [
              "[0.16473762691020966,\n",
              " 0.955845832824707,\n",
              " 10370.0,\n",
              " 401774.0,\n",
              " 453.0,\n",
              " 501.0,\n",
              " 0.9581446647644043,\n",
              " 0.9539141058921814]"
            ]
          },
          "metadata": {},
          "execution_count": 27
        }
      ],
      "source": [
        "model.evaluate_generator(test_generator)"
      ]
    },
    {
      "cell_type": "code",
      "source": [
        "test_dir = '/content/drive/MyDrive/Datasets/PlantVillage/val'\n",
        "test_datagen = ImageDataGenerator(rescale=1./255)\n",
        "\n",
        "test_generator = test_datagen.flow_from_directory (\n",
        "                test_dir,\n",
        "                target_size=(256,256),\n",
        "                batch_size=32,\n",
        "                class_mode='categorical',\n",
        "                shuffle= False)"
      ],
      "metadata": {
        "colab": {
          "base_uri": "https://localhost:8080/"
        },
        "id": "mhCb-nspMF-Q",
        "outputId": "4a8f6818-dbf6-42de-eb0f-08826e96ce36"
      },
      "execution_count": null,
      "outputs": [
        {
          "output_type": "stream",
          "name": "stdout",
          "text": [
            "Found 10871 images belonging to 38 classes.\n"
          ]
        }
      ]
    },
    {
      "cell_type": "code",
      "source": [
        "from sklearn.metrics import classification_report\n",
        "import numpy as np\n",
        "\n",
        "y_pred1 = model.predict(test_generator)\n",
        "y_pred1=np.argmax(y_pred1,axis=1)\n",
        "print(y_pred1)\n",
        "\n",
        "y_true=np.expand_dims(test_generator.classes, axis=1)\n",
        "print(y_true)\n",
        "\n",
        "print(classification_report(test_generator.classes, y_pred1))"
      ],
      "metadata": {
        "colab": {
          "base_uri": "https://localhost:8080/"
        },
        "id": "BxYI5Cu8MGJd",
        "outputId": "4462910d-b4de-44f3-a027-3f028726ee56"
      },
      "execution_count": null,
      "outputs": [
        {
          "output_type": "stream",
          "name": "stdout",
          "text": [
            "[ 0  0  0 ... 37 37 37]\n",
            "[[ 0]\n",
            " [ 0]\n",
            " [ 0]\n",
            " ...\n",
            " [37]\n",
            " [37]\n",
            " [37]]\n",
            "              precision    recall  f1-score   support\n",
            "\n",
            "           0       0.93      0.91      0.92       126\n",
            "           1       0.97      0.98      0.98       125\n",
            "           2       0.98      0.91      0.94        55\n",
            "           3       0.97      0.96      0.96       329\n",
            "           4       0.99      0.98      0.98       300\n",
            "           5       0.96      1.00      0.98       210\n",
            "           6       1.00      0.99      1.00       170\n",
            "           7       0.85      0.82      0.83       103\n",
            "           8       1.00      0.99      0.99       239\n",
            "           9       0.85      0.89      0.87       197\n",
            "          10       0.99      1.00      1.00       233\n",
            "          11       0.96      0.93      0.94       236\n",
            "          12       0.94      0.97      0.96       276\n",
            "          13       0.99      1.00      1.00       215\n",
            "          14       1.00      0.98      0.99        84\n",
            "          15       1.00      0.99      1.00      1112\n",
            "          16       0.98      0.99      0.98       459\n",
            "          17       0.97      0.94      0.96        72\n",
            "          18       0.97      0.89      0.93       200\n",
            "          19       0.93      0.98      0.96       295\n",
            "          20       0.97      0.96      0.96       200\n",
            "          21       0.92      0.94      0.93       200\n",
            "          22       0.90      0.58      0.71        31\n",
            "          23       0.99      1.00      0.99        74\n",
            "          24       1.00      0.99      0.99      1018\n",
            "          25       0.98      0.99      0.99       367\n",
            "          26       0.99      0.98      0.98       222\n",
            "          27       1.00      0.97      0.98        92\n",
            "          28       0.96      0.95      0.95       425\n",
            "          29       0.74      0.69      0.72       200\n",
            "          30       0.83      0.89      0.86       382\n",
            "          31       0.92      0.85      0.88       191\n",
            "          32       0.86      0.92      0.89       354\n",
            "          33       0.91      0.92      0.91       335\n",
            "          34       0.93      0.85      0.89       281\n",
            "          35       0.97      0.98      0.98      1071\n",
            "          36       0.93      0.92      0.93        74\n",
            "          37       0.98      1.00      0.99       318\n",
            "\n",
            "    accuracy                           0.96     10871\n",
            "   macro avg       0.95      0.93      0.94     10871\n",
            "weighted avg       0.96      0.96      0.96     10871\n",
            "\n"
          ]
        }
      ]
    }
  ],
  "metadata": {
    "colab": {
      "name": "VGG 19 Multi 1.ipynb",
      "provenance": []
    },
    "kernelspec": {
      "display_name": "Python 3",
      "name": "python3"
    },
    "language_info": {
      "name": "python"
    },
    "accelerator": "GPU"
  },
  "nbformat": 4,
  "nbformat_minor": 0
}