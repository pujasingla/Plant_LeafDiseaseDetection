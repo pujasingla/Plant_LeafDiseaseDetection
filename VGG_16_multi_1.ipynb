{
  "nbformat": 4,
  "nbformat_minor": 0,
  "metadata": {
    "colab": {
      "name": "VGG 16 multi 1.ipynb",
      "provenance": []
    },
    "kernelspec": {
      "name": "python3",
      "display_name": "Python 3"
    },
    "language_info": {
      "name": "python"
    },
    "accelerator": "GPU"
  },
  "cells": [
    {
      "cell_type": "code",
      "execution_count": null,
      "metadata": {
        "colab": {
          "base_uri": "https://localhost:8080/"
        },
        "id": "IDxwhY4uT3z8",
        "outputId": "93f5de7c-484a-4929-c4d4-4924f220cfed"
      },
      "outputs": [
        {
          "output_type": "stream",
          "name": "stdout",
          "text": [
            "Mounted at /content/drive/\n"
          ]
        }
      ],
      "source": [
        "from google.colab import drive\n",
        "drive.mount('/content/drive/')"
      ]
    },
    {
      "cell_type": "code",
      "source": [
        "from tensorflow.compat.v1 import ConfigProto\n",
        "from tensorflow.compat.v1 import InteractiveSession\n",
        "\n",
        "config = ConfigProto()\n",
        "config.gpu_options.allow_growth = True\n",
        "session = InteractiveSession(config=config)"
      ],
      "metadata": {
        "id": "AOMXHde_UJtZ"
      },
      "execution_count": null,
      "outputs": []
    },
    {
      "cell_type": "code",
      "source": [
        "import tensorflow as tf\n",
        "print(\"Num GPUs Available: \", len(tf.config.list_physical_devices('GPU')))"
      ],
      "metadata": {
        "colab": {
          "base_uri": "https://localhost:8080/"
        },
        "id": "aoweyUpRUJww",
        "outputId": "a69b037b-a523-47dc-ae80-c8fa7ff9b78a"
      },
      "execution_count": null,
      "outputs": [
        {
          "output_type": "stream",
          "name": "stdout",
          "text": [
            "Num GPUs Available:  1\n"
          ]
        }
      ]
    },
    {
      "cell_type": "code",
      "source": [
        "!nvidia-smi"
      ],
      "metadata": {
        "colab": {
          "base_uri": "https://localhost:8080/"
        },
        "id": "nQaipawYUJ0A",
        "outputId": "d7ef5216-0b75-47a3-b921-32b5a41dfc5d"
      },
      "execution_count": null,
      "outputs": [
        {
          "output_type": "stream",
          "name": "stdout",
          "text": [
            "Wed Feb 23 11:27:07 2022       \n",
            "+-----------------------------------------------------------------------------+\n",
            "| NVIDIA-SMI 460.32.03    Driver Version: 460.32.03    CUDA Version: 11.2     |\n",
            "|-------------------------------+----------------------+----------------------+\n",
            "| GPU  Name        Persistence-M| Bus-Id        Disp.A | Volatile Uncorr. ECC |\n",
            "| Fan  Temp  Perf  Pwr:Usage/Cap|         Memory-Usage | GPU-Util  Compute M. |\n",
            "|                               |                      |               MIG M. |\n",
            "|===============================+======================+======================|\n",
            "|   0  Tesla P100-PCIE...  Off  | 00000000:00:04.0 Off |                    0 |\n",
            "| N/A   43C    P0    36W / 250W |    375MiB / 16280MiB |      2%      Default |\n",
            "|                               |                      |                  N/A |\n",
            "+-------------------------------+----------------------+----------------------+\n",
            "                                                                               \n",
            "+-----------------------------------------------------------------------------+\n",
            "| Processes:                                                                  |\n",
            "|  GPU   GI   CI        PID   Type   Process name                  GPU Memory |\n",
            "|        ID   ID                                                   Usage      |\n",
            "|=============================================================================|\n",
            "+-----------------------------------------------------------------------------+\n"
          ]
        }
      ]
    },
    {
      "cell_type": "code",
      "source": [
        "import numpy as np\n",
        "import pandas as pd\n",
        "import matplotlib.pyplot as plt\n",
        "import os\n",
        "\n",
        "from tensorflow.keras.layers import Input, Lambda, Dense, Flatten\n",
        "from tensorflow.keras.models import Model\n",
        "from keras.applications.vgg16 import VGG16\n",
        "#from keras.applications.mobilenet import MobileNet\n",
        "from tensorflow.keras.applications.vgg16 import preprocess_input\n",
        "from tensorflow.keras.preprocessing import image\n",
        "from tensorflow.keras.preprocessing.image import ImageDataGenerator,load_img\n",
        "from tensorflow.keras.models import Sequential\n",
        "import numpy as np\n",
        "from glob import glob\n",
        "import matplotlib.pyplot as plt"
      ],
      "metadata": {
        "id": "t7AH-xAPUPXy"
      },
      "execution_count": null,
      "outputs": []
    },
    {
      "cell_type": "code",
      "source": [
        "IMAGE_SIZE = [256, 256]\n",
        "\n",
        "train_path = '/content/drive/MyDrive/Datasets/PlantVillage/train'\n",
        "valid_path = '/content/drive/MyDrive/Datasets/PlantVillage/val'"
      ],
      "metadata": {
        "id": "SX0H-5gtUPcu"
      },
      "execution_count": null,
      "outputs": []
    },
    {
      "cell_type": "code",
      "source": [
        "base = VGG16(input_shape=IMAGE_SIZE + [3], weights='imagenet', include_top=False)\n",
        "base.output"
      ],
      "metadata": {
        "colab": {
          "base_uri": "https://localhost:8080/"
        },
        "id": "ol8MJSZVUPfx",
        "outputId": "393460d6-45ec-43b2-f260-eac050be9245"
      },
      "execution_count": null,
      "outputs": [
        {
          "output_type": "stream",
          "name": "stdout",
          "text": [
            "Downloading data from https://storage.googleapis.com/tensorflow/keras-applications/vgg16/vgg16_weights_tf_dim_ordering_tf_kernels_notop.h5\n",
            "58892288/58889256 [==============================] - 0s 0us/step\n",
            "58900480/58889256 [==============================] - 0s 0us/step\n"
          ]
        },
        {
          "output_type": "execute_result",
          "data": {
            "text/plain": [
              "<KerasTensor: shape=(None, 8, 8, 512) dtype=float32 (created by layer 'block5_pool')>"
            ]
          },
          "metadata": {},
          "execution_count": 7
        }
      ]
    },
    {
      "cell_type": "code",
      "source": [
        "for layer in base.layers:\n",
        "    layer.trainable = False"
      ],
      "metadata": {
        "id": "cY0uTqtRUPi0"
      },
      "execution_count": null,
      "outputs": []
    },
    {
      "cell_type": "code",
      "source": [
        "folders = glob('/content/drive/MyDrive/Datasets/PlantVillage/train/*')\n",
        "print(len(folders))"
      ],
      "metadata": {
        "colab": {
          "base_uri": "https://localhost:8080/"
        },
        "id": "vO4IF92DUYQl",
        "outputId": "8af82c4c-753f-4e42-88d4-9cd8c34326a3"
      },
      "execution_count": null,
      "outputs": [
        {
          "output_type": "stream",
          "name": "stdout",
          "text": [
            "38\n"
          ]
        }
      ]
    },
    {
      "cell_type": "code",
      "source": [
        "x = Flatten()(base.output)"
      ],
      "metadata": {
        "id": "0KPXOFhtUYTu"
      },
      "execution_count": null,
      "outputs": []
    },
    {
      "cell_type": "code",
      "source": [
        "prediction = Dense(len(folders), activation='softmax')(x)\n",
        "\n",
        "# create a model object\n",
        "model = Model(inputs=base.input, outputs=prediction)"
      ],
      "metadata": {
        "id": "0RBwx-NNUYX5"
      },
      "execution_count": null,
      "outputs": []
    },
    {
      "cell_type": "code",
      "source": [
        "model.summary()"
      ],
      "metadata": {
        "colab": {
          "base_uri": "https://localhost:8080/"
        },
        "id": "f1t5lMKlUYaf",
        "outputId": "7dd77e6f-d3fa-4a29-8a91-632cf9aa9727"
      },
      "execution_count": null,
      "outputs": [
        {
          "output_type": "stream",
          "name": "stdout",
          "text": [
            "Model: \"model\"\n",
            "_________________________________________________________________\n",
            " Layer (type)                Output Shape              Param #   \n",
            "=================================================================\n",
            " input_1 (InputLayer)        [(None, 256, 256, 3)]     0         \n",
            "                                                                 \n",
            " block1_conv1 (Conv2D)       (None, 256, 256, 64)      1792      \n",
            "                                                                 \n",
            " block1_conv2 (Conv2D)       (None, 256, 256, 64)      36928     \n",
            "                                                                 \n",
            " block1_pool (MaxPooling2D)  (None, 128, 128, 64)      0         \n",
            "                                                                 \n",
            " block2_conv1 (Conv2D)       (None, 128, 128, 128)     73856     \n",
            "                                                                 \n",
            " block2_conv2 (Conv2D)       (None, 128, 128, 128)     147584    \n",
            "                                                                 \n",
            " block2_pool (MaxPooling2D)  (None, 64, 64, 128)       0         \n",
            "                                                                 \n",
            " block3_conv1 (Conv2D)       (None, 64, 64, 256)       295168    \n",
            "                                                                 \n",
            " block3_conv2 (Conv2D)       (None, 64, 64, 256)       590080    \n",
            "                                                                 \n",
            " block3_conv3 (Conv2D)       (None, 64, 64, 256)       590080    \n",
            "                                                                 \n",
            " block3_pool (MaxPooling2D)  (None, 32, 32, 256)       0         \n",
            "                                                                 \n",
            " block4_conv1 (Conv2D)       (None, 32, 32, 512)       1180160   \n",
            "                                                                 \n",
            " block4_conv2 (Conv2D)       (None, 32, 32, 512)       2359808   \n",
            "                                                                 \n",
            " block4_conv3 (Conv2D)       (None, 32, 32, 512)       2359808   \n",
            "                                                                 \n",
            " block4_pool (MaxPooling2D)  (None, 16, 16, 512)       0         \n",
            "                                                                 \n",
            " block5_conv1 (Conv2D)       (None, 16, 16, 512)       2359808   \n",
            "                                                                 \n",
            " block5_conv2 (Conv2D)       (None, 16, 16, 512)       2359808   \n",
            "                                                                 \n",
            " block5_conv3 (Conv2D)       (None, 16, 16, 512)       2359808   \n",
            "                                                                 \n",
            " block5_pool (MaxPooling2D)  (None, 8, 8, 512)         0         \n",
            "                                                                 \n",
            " flatten (Flatten)           (None, 32768)             0         \n",
            "                                                                 \n",
            " dense (Dense)               (None, 38)                1245222   \n",
            "                                                                 \n",
            "=================================================================\n",
            "Total params: 15,959,910\n",
            "Trainable params: 1,245,222\n",
            "Non-trainable params: 14,714,688\n",
            "_________________________________________________________________\n"
          ]
        }
      ]
    },
    {
      "cell_type": "code",
      "source": [
        "import tensorflow as tf\n",
        "from tensorflow.keras import optimizers\n",
        "\n",
        "model.compile (loss = 'categorical_crossentropy',\n",
        "              optimizer = optimizers.RMSprop(learning_rate=1e-4),\n",
        "              metrics=['acc',tf.keras.metrics.TruePositives(),tf.keras.metrics.TrueNegatives(),tf.keras.metrics.FalsePositives(),tf.keras.metrics.FalseNegatives(),tf.keras.metrics.Precision(),tf.keras.metrics.Recall()])"
      ],
      "metadata": {
        "id": "hUirYyEtUgeC"
      },
      "execution_count": null,
      "outputs": []
    },
    {
      "cell_type": "code",
      "source": [
        "from tensorflow.keras.preprocessing.image import ImageDataGenerator\n",
        "\n",
        "train_datagen = ImageDataGenerator(rescale = 1./255)\n",
        "\n",
        "test_datagen = ImageDataGenerator(rescale = 1./255)"
      ],
      "metadata": {
        "id": "RcgiEzybUgl2"
      },
      "execution_count": null,
      "outputs": []
    },
    {
      "cell_type": "code",
      "source": [
        "training_set = train_datagen.flow_from_directory(train_path,\n",
        "                                                 \n",
        "                                                 target_size = (256, 256),\n",
        "                                                 batch_size = 32,\n",
        "                                                 class_mode = 'categorical')"
      ],
      "metadata": {
        "colab": {
          "base_uri": "https://localhost:8080/"
        },
        "id": "dsqcl31ZUjOr",
        "outputId": "ce949ffe-1fb9-47f9-8e5d-33cd1b0210c0"
      },
      "execution_count": null,
      "outputs": [
        {
          "output_type": "stream",
          "name": "stdout",
          "text": [
            "Found 43444 images belonging to 38 classes.\n"
          ]
        }
      ]
    },
    {
      "cell_type": "code",
      "source": [
        "test_set = test_datagen.flow_from_directory(valid_path,\n",
        "                                            target_size = (256, 256),\n",
        "                                            batch_size = 32,\n",
        "                                            class_mode = 'categorical')"
      ],
      "metadata": {
        "colab": {
          "base_uri": "https://localhost:8080/"
        },
        "id": "VNM6ALV7Um0e",
        "outputId": "5a371d2c-16c7-41f9-fcf7-bbef2f7c05bc"
      },
      "execution_count": null,
      "outputs": [
        {
          "output_type": "stream",
          "name": "stdout",
          "text": [
            "Found 10871 images belonging to 38 classes.\n"
          ]
        }
      ]
    },
    {
      "cell_type": "code",
      "source": [
        "r = model.fit(\n",
        "  training_set,\n",
        "  validation_data=test_set,\n",
        "  epochs=25)"
      ],
      "metadata": {
        "colab": {
          "base_uri": "https://localhost:8080/"
        },
        "id": "UySbQxQPUjUk",
        "outputId": "817bc806-f3a2-47f2-9a9e-94d004249d59"
      },
      "execution_count": null,
      "outputs": [
        {
          "output_type": "stream",
          "name": "stdout",
          "text": [
            "Epoch 1/25\n",
            "1358/1358 [==============================] - 12003s 9s/step - loss: 0.5495 - acc: 0.8551 - true_positives: 32825.0000 - true_negatives: 1605595.0000 - false_positives: 1833.0000 - false_negatives: 10619.0000 - precision: 0.9471 - recall: 0.7556 - val_loss: 0.2583 - val_acc: 0.9213 - val_true_positives: 9717.0000 - val_true_negatives: 401695.0000 - val_false_positives: 532.0000 - val_false_negatives: 1154.0000 - val_precision: 0.9481 - val_recall: 0.8938\n",
            "Epoch 2/25\n",
            "1358/1358 [==============================] - 246s 181ms/step - loss: 0.1834 - acc: 0.9439 - true_positives: 40202.0000 - true_negatives: 1605853.0000 - false_positives: 1575.0000 - false_negatives: 3242.0000 - precision: 0.9623 - recall: 0.9254 - val_loss: 0.1700 - val_acc: 0.9478 - val_true_positives: 10133.0000 - val_true_negatives: 401822.0000 - val_false_positives: 405.0000 - val_false_negatives: 738.0000 - val_precision: 0.9616 - val_recall: 0.9321\n",
            "Epoch 3/25\n",
            "1358/1358 [==============================] - 245s 180ms/step - loss: 0.1249 - acc: 0.9623 - true_positives: 41354.0000 - true_negatives: 1606246.0000 - false_positives: 1182.0000 - false_negatives: 2090.0000 - precision: 0.9722 - recall: 0.9519 - val_loss: 0.1555 - val_acc: 0.9485 - val_true_positives: 10213.0000 - val_true_negatives: 401805.0000 - val_false_positives: 422.0000 - val_false_negatives: 658.0000 - val_precision: 0.9603 - val_recall: 0.9395\n",
            "Epoch 4/25\n",
            "1358/1358 [==============================] - 243s 179ms/step - loss: 0.0938 - acc: 0.9717 - true_positives: 41943.0000 - true_negatives: 1606498.0000 - false_positives: 930.0000 - false_negatives: 1501.0000 - precision: 0.9783 - recall: 0.9654 - val_loss: 0.1552 - val_acc: 0.9483 - val_true_positives: 10227.0000 - val_true_negatives: 401786.0000 - val_false_positives: 441.0000 - val_false_negatives: 644.0000 - val_precision: 0.9587 - val_recall: 0.9408\n",
            "Epoch 5/25\n",
            "1358/1358 [==============================] - 241s 177ms/step - loss: 0.0757 - acc: 0.9770 - true_positives: 42264.0000 - true_negatives: 1606636.0000 - false_positives: 792.0000 - false_negatives: 1180.0000 - precision: 0.9816 - recall: 0.9728 - val_loss: 0.1381 - val_acc: 0.9549 - val_true_positives: 10308.0000 - val_true_negatives: 401834.0000 - val_false_positives: 393.0000 - val_false_negatives: 563.0000 - val_precision: 0.9633 - val_recall: 0.9482\n",
            "Epoch 6/25\n",
            "1358/1358 [==============================] - 236s 173ms/step - loss: 0.0621 - acc: 0.9822 - true_positives: 42525.0000 - true_negatives: 1606792.0000 - false_positives: 636.0000 - false_negatives: 919.0000 - precision: 0.9853 - recall: 0.9788 - val_loss: 0.1276 - val_acc: 0.9588 - val_true_positives: 10364.0000 - val_true_negatives: 401851.0000 - val_false_positives: 376.0000 - val_false_negatives: 507.0000 - val_precision: 0.9650 - val_recall: 0.9534\n",
            "Epoch 7/25\n",
            "1358/1358 [==============================] - 235s 173ms/step - loss: 0.0515 - acc: 0.9852 - true_positives: 42707.0000 - true_negatives: 1606886.0000 - false_positives: 542.0000 - false_negatives: 737.0000 - precision: 0.9875 - recall: 0.9830 - val_loss: 0.1364 - val_acc: 0.9548 - val_true_positives: 10328.0000 - val_true_negatives: 401811.0000 - val_false_positives: 416.0000 - val_false_negatives: 543.0000 - val_precision: 0.9613 - val_recall: 0.9501\n",
            "Epoch 8/25\n",
            "1358/1358 [==============================] - 235s 173ms/step - loss: 0.0435 - acc: 0.9878 - true_positives: 42830.0000 - true_negatives: 1606987.0000 - false_positives: 441.0000 - false_negatives: 614.0000 - precision: 0.9898 - recall: 0.9859 - val_loss: 0.1257 - val_acc: 0.9579 - val_true_positives: 10372.0000 - val_true_negatives: 401821.0000 - val_false_positives: 406.0000 - val_false_negatives: 499.0000 - val_precision: 0.9623 - val_recall: 0.9541\n",
            "Epoch 9/25\n",
            "1358/1358 [==============================] - 235s 173ms/step - loss: 0.0377 - acc: 0.9902 - true_positives: 42934.0000 - true_negatives: 1607057.0000 - false_positives: 371.0000 - false_negatives: 510.0000 - precision: 0.9914 - recall: 0.9883 - val_loss: 0.1216 - val_acc: 0.9604 - val_true_positives: 10408.0000 - val_true_negatives: 401850.0000 - val_false_positives: 377.0000 - val_false_negatives: 463.0000 - val_precision: 0.9650 - val_recall: 0.9574\n",
            "Epoch 10/25\n",
            "1358/1358 [==============================] - 235s 173ms/step - loss: 0.0316 - acc: 0.9919 - true_positives: 43040.0000 - true_negatives: 1607129.0000 - false_positives: 299.0000 - false_negatives: 404.0000 - precision: 0.9931 - recall: 0.9907 - val_loss: 0.1258 - val_acc: 0.9604 - val_true_positives: 10412.0000 - val_true_negatives: 401854.0000 - val_false_positives: 373.0000 - val_false_negatives: 459.0000 - val_precision: 0.9654 - val_recall: 0.9578\n",
            "Epoch 11/25\n",
            "1358/1358 [==============================] - 235s 173ms/step - loss: 0.0281 - acc: 0.9929 - true_positives: 43091.0000 - true_negatives: 1607159.0000 - false_positives: 269.0000 - false_negatives: 353.0000 - precision: 0.9938 - recall: 0.9919 - val_loss: 0.1177 - val_acc: 0.9633 - val_true_positives: 10444.0000 - val_true_negatives: 401866.0000 - val_false_positives: 361.0000 - val_false_negatives: 427.0000 - val_precision: 0.9666 - val_recall: 0.9607\n",
            "Epoch 12/25\n",
            "1358/1358 [==============================] - 236s 174ms/step - loss: 0.0238 - acc: 0.9939 - true_positives: 43148.0000 - true_negatives: 1607202.0000 - false_positives: 226.0000 - false_negatives: 296.0000 - precision: 0.9948 - recall: 0.9932 - val_loss: 0.1198 - val_acc: 0.9614 - val_true_positives: 10424.0000 - val_true_negatives: 401853.0000 - val_false_positives: 374.0000 - val_false_negatives: 447.0000 - val_precision: 0.9654 - val_recall: 0.9589\n",
            "Epoch 13/25\n",
            "1358/1358 [==============================] - 237s 175ms/step - loss: 0.0207 - acc: 0.9954 - true_positives: 43219.0000 - true_negatives: 1607254.0000 - false_positives: 174.0000 - false_negatives: 225.0000 - precision: 0.9960 - recall: 0.9948 - val_loss: 0.1293 - val_acc: 0.9603 - val_true_positives: 10420.0000 - val_true_negatives: 401836.0000 - val_false_positives: 391.0000 - val_false_negatives: 451.0000 - val_precision: 0.9638 - val_recall: 0.9585\n",
            "Epoch 14/25\n",
            "1358/1358 [==============================] - 238s 175ms/step - loss: 0.0183 - acc: 0.9959 - true_positives: 43241.0000 - true_negatives: 1607269.0000 - false_positives: 159.0000 - false_negatives: 203.0000 - precision: 0.9963 - recall: 0.9953 - val_loss: 0.1189 - val_acc: 0.9624 - val_true_positives: 10435.0000 - val_true_negatives: 401844.0000 - val_false_positives: 383.0000 - val_false_negatives: 436.0000 - val_precision: 0.9646 - val_recall: 0.9599\n",
            "Epoch 15/25\n",
            "1358/1358 [==============================] - 235s 173ms/step - loss: 0.0155 - acc: 0.9964 - true_positives: 43272.0000 - true_negatives: 1607293.0000 - false_positives: 135.0000 - false_negatives: 172.0000 - precision: 0.9969 - recall: 0.9960 - val_loss: 0.1299 - val_acc: 0.9602 - val_true_positives: 10414.0000 - val_true_negatives: 401833.0000 - val_false_positives: 394.0000 - val_false_negatives: 457.0000 - val_precision: 0.9635 - val_recall: 0.9580\n",
            "Epoch 16/25\n",
            "1358/1358 [==============================] - 235s 173ms/step - loss: 0.0137 - acc: 0.9971 - true_positives: 43306.0000 - true_negatives: 1607313.0000 - false_positives: 115.0000 - false_negatives: 138.0000 - precision: 0.9974 - recall: 0.9968 - val_loss: 0.1237 - val_acc: 0.9627 - val_true_positives: 10443.0000 - val_true_negatives: 401854.0000 - val_false_positives: 373.0000 - val_false_negatives: 428.0000 - val_precision: 0.9655 - val_recall: 0.9606\n",
            "Epoch 17/25\n",
            "1358/1358 [==============================] - 235s 173ms/step - loss: 0.0122 - acc: 0.9971 - true_positives: 43310.0000 - true_negatives: 1607318.0000 - false_positives: 110.0000 - false_negatives: 134.0000 - precision: 0.9975 - recall: 0.9969 - val_loss: 0.1280 - val_acc: 0.9613 - val_true_positives: 10441.0000 - val_true_negatives: 401841.0000 - val_false_positives: 386.0000 - val_false_negatives: 430.0000 - val_precision: 0.9643 - val_recall: 0.9604\n",
            "Epoch 18/25\n",
            "1358/1358 [==============================] - 235s 173ms/step - loss: 0.0105 - acc: 0.9977 - true_positives: 43335.0000 - true_negatives: 1607339.0000 - false_positives: 89.0000 - false_negatives: 109.0000 - precision: 0.9980 - recall: 0.9975 - val_loss: 0.1253 - val_acc: 0.9646 - val_true_positives: 10470.0000 - val_true_negatives: 401877.0000 - val_false_positives: 350.0000 - val_false_negatives: 401.0000 - val_precision: 0.9677 - val_recall: 0.9631\n",
            "Epoch 19/25\n",
            "1358/1358 [==============================] - 238s 175ms/step - loss: 0.0095 - acc: 0.9978 - true_positives: 43346.0000 - true_negatives: 1607343.0000 - false_positives: 85.0000 - false_negatives: 98.0000 - precision: 0.9980 - recall: 0.9977 - val_loss: 0.1310 - val_acc: 0.9625 - val_true_positives: 10449.0000 - val_true_negatives: 401851.0000 - val_false_positives: 376.0000 - val_false_negatives: 422.0000 - val_precision: 0.9653 - val_recall: 0.9612\n",
            "Epoch 20/25\n",
            "1358/1358 [==============================] - 240s 177ms/step - loss: 0.0083 - acc: 0.9982 - true_positives: 43357.0000 - true_negatives: 1607357.0000 - false_positives: 71.0000 - false_negatives: 87.0000 - precision: 0.9984 - recall: 0.9980 - val_loss: 0.1260 - val_acc: 0.9643 - val_true_positives: 10470.0000 - val_true_negatives: 401877.0000 - val_false_positives: 350.0000 - val_false_negatives: 401.0000 - val_precision: 0.9677 - val_recall: 0.9631\n",
            "Epoch 21/25\n",
            "1358/1358 [==============================] - 239s 176ms/step - loss: 0.0070 - acc: 0.9987 - true_positives: 43374.0000 - true_negatives: 1607379.0000 - false_positives: 49.0000 - false_negatives: 70.0000 - precision: 0.9989 - recall: 0.9984 - val_loss: 0.1313 - val_acc: 0.9627 - val_true_positives: 10451.0000 - val_true_negatives: 401854.0000 - val_false_positives: 373.0000 - val_false_negatives: 420.0000 - val_precision: 0.9655 - val_recall: 0.9614\n",
            "Epoch 22/25\n",
            "1358/1358 [==============================] - 239s 176ms/step - loss: 0.0064 - acc: 0.9988 - true_positives: 43388.0000 - true_negatives: 1607381.0000 - false_positives: 47.0000 - false_negatives: 56.0000 - precision: 0.9989 - recall: 0.9987 - val_loss: 0.1289 - val_acc: 0.9637 - val_true_positives: 10468.0000 - val_true_negatives: 401861.0000 - val_false_positives: 366.0000 - val_false_negatives: 403.0000 - val_precision: 0.9662 - val_recall: 0.9629\n",
            "Epoch 23/25\n",
            "1358/1358 [==============================] - 240s 176ms/step - loss: 0.0057 - acc: 0.9989 - true_positives: 43389.0000 - true_negatives: 1607384.0000 - false_positives: 44.0000 - false_negatives: 55.0000 - precision: 0.9990 - recall: 0.9987 - val_loss: 0.1379 - val_acc: 0.9614 - val_true_positives: 10438.0000 - val_true_negatives: 401834.0000 - val_false_positives: 393.0000 - val_false_negatives: 433.0000 - val_precision: 0.9637 - val_recall: 0.9602\n",
            "Epoch 24/25\n",
            "1358/1358 [==============================] - 239s 176ms/step - loss: 0.0051 - acc: 0.9990 - true_positives: 43398.0000 - true_negatives: 1607391.0000 - false_positives: 37.0000 - false_negatives: 46.0000 - precision: 0.9991 - recall: 0.9989 - val_loss: 0.1356 - val_acc: 0.9639 - val_true_positives: 10462.0000 - val_true_negatives: 401859.0000 - val_false_positives: 368.0000 - val_false_negatives: 409.0000 - val_precision: 0.9660 - val_recall: 0.9624\n",
            "Epoch 25/25\n",
            "1358/1358 [==============================] - 238s 176ms/step - loss: 0.0044 - acc: 0.9992 - true_positives: 43408.0000 - true_negatives: 1607400.0000 - false_positives: 28.0000 - false_negatives: 36.0000 - precision: 0.9994 - recall: 0.9992 - val_loss: 0.1359 - val_acc: 0.9637 - val_true_positives: 10464.0000 - val_true_negatives: 401857.0000 - val_false_positives: 370.0000 - val_false_negatives: 407.0000 - val_precision: 0.9658 - val_recall: 0.9626\n"
          ]
        }
      ]
    },
    {
      "cell_type": "code",
      "source": [
        "from tensorflow.keras.models import load_model\n",
        "\n",
        "model.save('VGG16_multi_1.h5')"
      ],
      "metadata": {
        "id": "71yjFNqCUpZV"
      },
      "execution_count": null,
      "outputs": []
    },
    {
      "cell_type": "code",
      "source": [
        "plt.plot(r.history['loss'], label='train loss')\n",
        "plt.plot(r.history['val_loss'], label='val loss')\n",
        "plt.plot(r.history['acc'], label='train acc')\n",
        "plt.plot(r.history['val_acc'], label='val acc')\n",
        "plt.legend()\n",
        "plt.show()"
      ],
      "metadata": {
        "colab": {
          "base_uri": "https://localhost:8080/",
          "height": 265
        },
        "id": "vdg895IeUpc7",
        "outputId": "8efc8156-4369-4cd6-c519-77002e24ed7e"
      },
      "execution_count": null,
      "outputs": [
        {
          "output_type": "display_data",
          "data": {
            "image/png": "[encoded data removed]",
            "text/plain": [
              "<Figure size 432x288 with 1 Axes>"
            ]
          },
          "metadata": {
            "needs_background": "light"
          }
        }
      ]
    },
    {
      "cell_type": "code",
      "source": [
        "test_dir = '/content/drive/MyDrive/Datasets/PlantVillage/val'\n",
        "test_datagen = ImageDataGenerator(rescale=1./255)\n",
        "\n",
        "test_generator = test_datagen.flow_from_directory (\n",
        "                test_dir,\n",
        "                target_size=(256,256),\n",
        "                batch_size=32,\n",
        "                class_mode='categorical')"
      ],
      "metadata": {
        "colab": {
          "base_uri": "https://localhost:8080/"
        },
        "id": "rWJr-NxVUt68",
        "outputId": "1ef7ef3a-8c48-40da-af14-d84291ece8df"
      },
      "execution_count": null,
      "outputs": [
        {
          "output_type": "stream",
          "name": "stdout",
          "text": [
            "Found 10871 images belonging to 38 classes.\n"
          ]
        }
      ]
    },
    {
      "cell_type": "code",
      "source": [
        "model.evaluate_generator(test_generator)"
      ],
      "metadata": {
        "colab": {
          "base_uri": "https://localhost:8080/"
        },
        "id": "gYy7zEtOUuE3",
        "outputId": "2845be81-9f71-4616-bb1b-5b2488672530"
      },
      "execution_count": null,
      "outputs": [
        {
          "output_type": "stream",
          "name": "stderr",
          "text": [
            "/usr/local/lib/python3.7/dist-packages/ipykernel_launcher.py:1: UserWarning: `Model.evaluate_generator` is deprecated and will be removed in a future version. Please use `Model.evaluate`, which supports generators.\n",
            "  \"\"\"Entry point for launching an IPython kernel.\n"
          ]
        },
        {
          "output_type": "execute_result",
          "data": {
            "text/plain": [
              "[0.135859414935112,\n",
              " 0.9636647701263428,\n",
              " 10464.0,\n",
              " 401857.0,\n",
              " 370.0,\n",
              " 407.0,\n",
              " 0.9658482670783997,\n",
              " 0.9625609517097473]"
            ]
          },
          "metadata": {},
          "execution_count": 22
        }
      ]
    },
    {
      "cell_type": "code",
      "source": [
        "test_dir = '/content/drive/MyDrive/Datasets/PlantVillage/val'\n",
        "test_datagen = ImageDataGenerator(rescale=1./255)\n",
        "\n",
        "test_generator = test_datagen.flow_from_directory (\n",
        "                test_dir,\n",
        "                target_size=(256,256),\n",
        "                batch_size=32,\n",
        "                class_mode='categorical',\n",
        "                shuffle= False)"
      ],
      "metadata": {
        "colab": {
          "base_uri": "https://localhost:8080/"
        },
        "id": "nwgfoEGHUyV3",
        "outputId": "3ad67ec1-ccf9-4b15-ce56-0ef5eaf2a82a"
      },
      "execution_count": null,
      "outputs": [
        {
          "output_type": "stream",
          "name": "stdout",
          "text": [
            "Found 10871 images belonging to 38 classes.\n"
          ]
        }
      ]
    },
    {
      "cell_type": "code",
      "source": [
        "from sklearn.metrics import classification_report\n",
        "import numpy as np\n",
        "\n",
        "y_pred1 = model.predict(test_generator)\n",
        "y_pred1=np.argmax(y_pred1,axis=1)\n",
        "print(y_pred1)\n",
        "\n",
        "y_true=np.expand_dims(test_generator.classes, axis=1)\n",
        "print(y_true)\n",
        "\n",
        "print(classification_report(test_generator.classes, y_pred1))"
      ],
      "metadata": {
        "colab": {
          "base_uri": "https://localhost:8080/"
        },
        "id": "lQAWxTTfU0Pl",
        "outputId": "652b02d5-3ea4-464b-c241-92583c83c2f3"
      },
      "execution_count": null,
      "outputs": [
        {
          "output_type": "stream",
          "name": "stdout",
          "text": [
            "[ 0  5  3 ... 37 37 37]\n",
            "[[ 0]\n",
            " [ 0]\n",
            " [ 0]\n",
            " ...\n",
            " [37]\n",
            " [37]\n",
            " [37]]\n",
            "              precision    recall  f1-score   support\n",
            "\n",
            "           0       0.97      0.91      0.94       126\n",
            "           1       1.00      0.97      0.98       125\n",
            "           2       1.00      0.98      0.99        55\n",
            "           3       0.96      0.98      0.97       329\n",
            "           4       0.98      0.99      0.99       300\n",
            "           5       0.99      1.00      0.99       210\n",
            "           6       1.00      0.99      1.00       170\n",
            "           7       0.84      0.89      0.86       103\n",
            "           8       1.00      0.99      0.99       239\n",
            "           9       0.92      0.87      0.89       197\n",
            "          10       0.98      1.00      0.99       233\n",
            "          11       0.97      0.96      0.96       236\n",
            "          12       0.97      0.97      0.97       276\n",
            "          13       1.00      1.00      1.00       215\n",
            "          14       0.99      0.99      0.99        84\n",
            "          15       1.00      0.99      1.00      1112\n",
            "          16       0.95      1.00      0.97       459\n",
            "          17       0.99      0.92      0.95        72\n",
            "          18       0.95      0.98      0.97       200\n",
            "          19       0.99      0.97      0.98       295\n",
            "          20       0.97      0.97      0.97       200\n",
            "          21       0.93      0.96      0.95       200\n",
            "          22       0.92      0.71      0.80        31\n",
            "          23       0.97      1.00      0.99        74\n",
            "          24       0.99      1.00      0.99      1018\n",
            "          25       0.99      0.99      0.99       367\n",
            "          26       0.97      0.97      0.97       222\n",
            "          27       1.00      0.97      0.98        92\n",
            "          28       0.97      0.96      0.97       425\n",
            "          29       0.72      0.72      0.72       200\n",
            "          30       0.85      0.89      0.87       382\n",
            "          31       0.90      0.88      0.89       191\n",
            "          32       0.95      0.91      0.93       354\n",
            "          33       0.93      0.92      0.93       335\n",
            "          34       0.88      0.94      0.91       281\n",
            "          35       0.99      0.99      0.99      1071\n",
            "          36       0.96      0.92      0.94        74\n",
            "          37       1.00      0.97      0.99       318\n",
            "\n",
            "    accuracy                           0.96     10871\n",
            "   macro avg       0.96      0.95      0.95     10871\n",
            "weighted avg       0.96      0.96      0.96     10871\n",
            "\n"
          ]
        }
      ]
    },
    {
      "cell_type": "code",
      "source": [
        ""
      ],
      "metadata": {
        "id": "TSL4iHJ3aQV0"
      },
      "execution_count": null,
      "outputs": []
    }
  ]
}